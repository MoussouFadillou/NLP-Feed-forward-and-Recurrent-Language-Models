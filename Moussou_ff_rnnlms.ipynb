{
  "nbformat": 4,
  "nbformat_minor": 0,
  "metadata": {
    "accelerator": "GPU",
    "colab": {
      "name": "Moussou_ff_rnnlms.ipynb",
      "provenance": [],
      "collapsed_sections": [],
      "toc_visible": true
    },
    "kernelspec": {
      "display_name": "Python 3",
      "language": "python",
      "name": "python3"
    },
    "language_info": {
      "codemirror_mode": {
        "name": "ipython",
        "version": 3
      },
      "file_extension": ".py",
      "mimetype": "text/x-python",
      "name": "python",
      "nbconvert_exporter": "python",
      "pygments_lexer": "ipython3",
      "version": "3.7.2"
    },
    "widgets": {
      "application/vnd.jupyter.widget-state+json": {
        "25994620a5264743810f9942de3a694e": {
          "model_module": "@jupyter-widgets/controls",
          "model_name": "HBoxModel",
          "state": {
            "_view_name": "HBoxView",
            "_dom_classes": [],
            "_model_name": "HBoxModel",
            "_view_module": "@jupyter-widgets/controls",
            "_model_module_version": "1.5.0",
            "_view_count": null,
            "_view_module_version": "1.5.0",
            "box_style": "",
            "layout": "IPY_MODEL_9130cd1c2743449c97414f2cb8a592db",
            "_model_module": "@jupyter-widgets/controls",
            "children": [
              "IPY_MODEL_63d310fa86e5429a974b9cdbcb3e7ff8",
              "IPY_MODEL_7b270c7d53434bccad64a1f639ebb9a2"
            ]
          }
        },
        "9130cd1c2743449c97414f2cb8a592db": {
          "model_module": "@jupyter-widgets/base",
          "model_name": "LayoutModel",
          "state": {
            "_view_name": "LayoutView",
            "grid_template_rows": null,
            "right": null,
            "justify_content": null,
            "_view_module": "@jupyter-widgets/base",
            "overflow": null,
            "_model_module_version": "1.2.0",
            "_view_count": null,
            "flex_flow": null,
            "width": null,
            "min_width": null,
            "border": null,
            "align_items": null,
            "bottom": null,
            "_model_module": "@jupyter-widgets/base",
            "top": null,
            "grid_column": null,
            "overflow_y": null,
            "overflow_x": null,
            "grid_auto_flow": null,
            "grid_area": null,
            "grid_template_columns": null,
            "flex": null,
            "_model_name": "LayoutModel",
            "justify_items": null,
            "grid_row": null,
            "max_height": null,
            "align_content": null,
            "visibility": null,
            "align_self": null,
            "height": null,
            "min_height": null,
            "padding": null,
            "grid_auto_rows": null,
            "grid_gap": null,
            "max_width": null,
            "order": null,
            "_view_module_version": "1.2.0",
            "grid_template_areas": null,
            "object_position": null,
            "object_fit": null,
            "grid_auto_columns": null,
            "margin": null,
            "display": null,
            "left": null
          }
        },
        "63d310fa86e5429a974b9cdbcb3e7ff8": {
          "model_module": "@jupyter-widgets/controls",
          "model_name": "FloatProgressModel",
          "state": {
            "_view_name": "ProgressView",
            "style": "IPY_MODEL_0ffaa3052c4c41f2b80efee113c22d86",
            "_dom_classes": [],
            "description": "Downloading: 100%",
            "_model_name": "FloatProgressModel",
            "bar_style": "success",
            "max": 1042301,
            "_view_module": "@jupyter-widgets/controls",
            "_model_module_version": "1.5.0",
            "value": 1042301,
            "_view_count": null,
            "_view_module_version": "1.5.0",
            "orientation": "horizontal",
            "min": 0,
            "description_tooltip": null,
            "_model_module": "@jupyter-widgets/controls",
            "layout": "IPY_MODEL_5a7659e686cc4e06a4cef5bce9559458"
          }
        },
        "7b270c7d53434bccad64a1f639ebb9a2": {
          "model_module": "@jupyter-widgets/controls",
          "model_name": "HTMLModel",
          "state": {
            "_view_name": "HTMLView",
            "style": "IPY_MODEL_548a1ccf3b664628bfb58431f13a059a",
            "_dom_classes": [],
            "description": "",
            "_model_name": "HTMLModel",
            "placeholder": "​",
            "_view_module": "@jupyter-widgets/controls",
            "_model_module_version": "1.5.0",
            "value": " 1.04M/1.04M [00:02&lt;00:00, 401kB/s]",
            "_view_count": null,
            "_view_module_version": "1.5.0",
            "description_tooltip": null,
            "_model_module": "@jupyter-widgets/controls",
            "layout": "IPY_MODEL_76393e1adfa04cd59f65265230bdf3f8"
          }
        },
        "0ffaa3052c4c41f2b80efee113c22d86": {
          "model_module": "@jupyter-widgets/controls",
          "model_name": "ProgressStyleModel",
          "state": {
            "_view_name": "StyleView",
            "_model_name": "ProgressStyleModel",
            "description_width": "initial",
            "_view_module": "@jupyter-widgets/base",
            "_model_module_version": "1.5.0",
            "_view_count": null,
            "_view_module_version": "1.2.0",
            "bar_color": null,
            "_model_module": "@jupyter-widgets/controls"
          }
        },
        "5a7659e686cc4e06a4cef5bce9559458": {
          "model_module": "@jupyter-widgets/base",
          "model_name": "LayoutModel",
          "state": {
            "_view_name": "LayoutView",
            "grid_template_rows": null,
            "right": null,
            "justify_content": null,
            "_view_module": "@jupyter-widgets/base",
            "overflow": null,
            "_model_module_version": "1.2.0",
            "_view_count": null,
            "flex_flow": null,
            "width": null,
            "min_width": null,
            "border": null,
            "align_items": null,
            "bottom": null,
            "_model_module": "@jupyter-widgets/base",
            "top": null,
            "grid_column": null,
            "overflow_y": null,
            "overflow_x": null,
            "grid_auto_flow": null,
            "grid_area": null,
            "grid_template_columns": null,
            "flex": null,
            "_model_name": "LayoutModel",
            "justify_items": null,
            "grid_row": null,
            "max_height": null,
            "align_content": null,
            "visibility": null,
            "align_self": null,
            "height": null,
            "min_height": null,
            "padding": null,
            "grid_auto_rows": null,
            "grid_gap": null,
            "max_width": null,
            "order": null,
            "_view_module_version": "1.2.0",
            "grid_template_areas": null,
            "object_position": null,
            "object_fit": null,
            "grid_auto_columns": null,
            "margin": null,
            "display": null,
            "left": null
          }
        },
        "548a1ccf3b664628bfb58431f13a059a": {
          "model_module": "@jupyter-widgets/controls",
          "model_name": "DescriptionStyleModel",
          "state": {
            "_view_name": "StyleView",
            "_model_name": "DescriptionStyleModel",
            "description_width": "",
            "_view_module": "@jupyter-widgets/base",
            "_model_module_version": "1.5.0",
            "_view_count": null,
            "_view_module_version": "1.2.0",
            "_model_module": "@jupyter-widgets/controls"
          }
        },
        "76393e1adfa04cd59f65265230bdf3f8": {
          "model_module": "@jupyter-widgets/base",
          "model_name": "LayoutModel",
          "state": {
            "_view_name": "LayoutView",
            "grid_template_rows": null,
            "right": null,
            "justify_content": null,
            "_view_module": "@jupyter-widgets/base",
            "overflow": null,
            "_model_module_version": "1.2.0",
            "_view_count": null,
            "flex_flow": null,
            "width": null,
            "min_width": null,
            "border": null,
            "align_items": null,
            "bottom": null,
            "_model_module": "@jupyter-widgets/base",
            "top": null,
            "grid_column": null,
            "overflow_y": null,
            "overflow_x": null,
            "grid_auto_flow": null,
            "grid_area": null,
            "grid_template_columns": null,
            "flex": null,
            "_model_name": "LayoutModel",
            "justify_items": null,
            "grid_row": null,
            "max_height": null,
            "align_content": null,
            "visibility": null,
            "align_self": null,
            "height": null,
            "min_height": null,
            "padding": null,
            "grid_auto_rows": null,
            "grid_gap": null,
            "max_width": null,
            "order": null,
            "_view_module_version": "1.2.0",
            "grid_template_areas": null,
            "object_position": null,
            "object_fit": null,
            "grid_auto_columns": null,
            "margin": null,
            "display": null,
            "left": null
          }
        },
        "c0017acf41ad4d8ab5de63d1b90436d1": {
          "model_module": "@jupyter-widgets/controls",
          "model_name": "HBoxModel",
          "state": {
            "_view_name": "HBoxView",
            "_dom_classes": [],
            "_model_name": "HBoxModel",
            "_view_module": "@jupyter-widgets/controls",
            "_model_module_version": "1.5.0",
            "_view_count": null,
            "_view_module_version": "1.5.0",
            "box_style": "",
            "layout": "IPY_MODEL_4494491a17c54e0783c0930db84b20c6",
            "_model_module": "@jupyter-widgets/controls",
            "children": [
              "IPY_MODEL_2a0174c024e340449dca41734418ea3b",
              "IPY_MODEL_3e3f25b75a154a5d9057779ce532890e"
            ]
          }
        },
        "4494491a17c54e0783c0930db84b20c6": {
          "model_module": "@jupyter-widgets/base",
          "model_name": "LayoutModel",
          "state": {
            "_view_name": "LayoutView",
            "grid_template_rows": null,
            "right": null,
            "justify_content": null,
            "_view_module": "@jupyter-widgets/base",
            "overflow": null,
            "_model_module_version": "1.2.0",
            "_view_count": null,
            "flex_flow": null,
            "width": null,
            "min_width": null,
            "border": null,
            "align_items": null,
            "bottom": null,
            "_model_module": "@jupyter-widgets/base",
            "top": null,
            "grid_column": null,
            "overflow_y": null,
            "overflow_x": null,
            "grid_auto_flow": null,
            "grid_area": null,
            "grid_template_columns": null,
            "flex": null,
            "_model_name": "LayoutModel",
            "justify_items": null,
            "grid_row": null,
            "max_height": null,
            "align_content": null,
            "visibility": null,
            "align_self": null,
            "height": null,
            "min_height": null,
            "padding": null,
            "grid_auto_rows": null,
            "grid_gap": null,
            "max_width": null,
            "order": null,
            "_view_module_version": "1.2.0",
            "grid_template_areas": null,
            "object_position": null,
            "object_fit": null,
            "grid_auto_columns": null,
            "margin": null,
            "display": null,
            "left": null
          }
        },
        "2a0174c024e340449dca41734418ea3b": {
          "model_module": "@jupyter-widgets/controls",
          "model_name": "FloatProgressModel",
          "state": {
            "_view_name": "ProgressView",
            "style": "IPY_MODEL_66147d591e7f4969a06cb52ff577a4d3",
            "_dom_classes": [],
            "description": "Downloading: 100%",
            "_model_name": "FloatProgressModel",
            "bar_style": "success",
            "max": 456318,
            "_view_module": "@jupyter-widgets/controls",
            "_model_module_version": "1.5.0",
            "value": 456318,
            "_view_count": null,
            "_view_module_version": "1.5.0",
            "orientation": "horizontal",
            "min": 0,
            "description_tooltip": null,
            "_model_module": "@jupyter-widgets/controls",
            "layout": "IPY_MODEL_68dd4c1159284c1ebef2a8abf028d27a"
          }
        },
        "3e3f25b75a154a5d9057779ce532890e": {
          "model_module": "@jupyter-widgets/controls",
          "model_name": "HTMLModel",
          "state": {
            "_view_name": "HTMLView",
            "style": "IPY_MODEL_2b234e9e2c724585a2cdebabd144bf40",
            "_dom_classes": [],
            "description": "",
            "_model_name": "HTMLModel",
            "placeholder": "​",
            "_view_module": "@jupyter-widgets/controls",
            "_model_module_version": "1.5.0",
            "value": " 456k/456k [00:01&lt;00:00, 332kB/s]",
            "_view_count": null,
            "_view_module_version": "1.5.0",
            "description_tooltip": null,
            "_model_module": "@jupyter-widgets/controls",
            "layout": "IPY_MODEL_e006beca80064d018c10551c59401183"
          }
        },
        "66147d591e7f4969a06cb52ff577a4d3": {
          "model_module": "@jupyter-widgets/controls",
          "model_name": "ProgressStyleModel",
          "state": {
            "_view_name": "StyleView",
            "_model_name": "ProgressStyleModel",
            "description_width": "initial",
            "_view_module": "@jupyter-widgets/base",
            "_model_module_version": "1.5.0",
            "_view_count": null,
            "_view_module_version": "1.2.0",
            "bar_color": null,
            "_model_module": "@jupyter-widgets/controls"
          }
        },
        "68dd4c1159284c1ebef2a8abf028d27a": {
          "model_module": "@jupyter-widgets/base",
          "model_name": "LayoutModel",
          "state": {
            "_view_name": "LayoutView",
            "grid_template_rows": null,
            "right": null,
            "justify_content": null,
            "_view_module": "@jupyter-widgets/base",
            "overflow": null,
            "_model_module_version": "1.2.0",
            "_view_count": null,
            "flex_flow": null,
            "width": null,
            "min_width": null,
            "border": null,
            "align_items": null,
            "bottom": null,
            "_model_module": "@jupyter-widgets/base",
            "top": null,
            "grid_column": null,
            "overflow_y": null,
            "overflow_x": null,
            "grid_auto_flow": null,
            "grid_area": null,
            "grid_template_columns": null,
            "flex": null,
            "_model_name": "LayoutModel",
            "justify_items": null,
            "grid_row": null,
            "max_height": null,
            "align_content": null,
            "visibility": null,
            "align_self": null,
            "height": null,
            "min_height": null,
            "padding": null,
            "grid_auto_rows": null,
            "grid_gap": null,
            "max_width": null,
            "order": null,
            "_view_module_version": "1.2.0",
            "grid_template_areas": null,
            "object_position": null,
            "object_fit": null,
            "grid_auto_columns": null,
            "margin": null,
            "display": null,
            "left": null
          }
        },
        "2b234e9e2c724585a2cdebabd144bf40": {
          "model_module": "@jupyter-widgets/controls",
          "model_name": "DescriptionStyleModel",
          "state": {
            "_view_name": "StyleView",
            "_model_name": "DescriptionStyleModel",
            "description_width": "",
            "_view_module": "@jupyter-widgets/base",
            "_model_module_version": "1.5.0",
            "_view_count": null,
            "_view_module_version": "1.2.0",
            "_model_module": "@jupyter-widgets/controls"
          }
        },
        "e006beca80064d018c10551c59401183": {
          "model_module": "@jupyter-widgets/base",
          "model_name": "LayoutModel",
          "state": {
            "_view_name": "LayoutView",
            "grid_template_rows": null,
            "right": null,
            "justify_content": null,
            "_view_module": "@jupyter-widgets/base",
            "overflow": null,
            "_model_module_version": "1.2.0",
            "_view_count": null,
            "flex_flow": null,
            "width": null,
            "min_width": null,
            "border": null,
            "align_items": null,
            "bottom": null,
            "_model_module": "@jupyter-widgets/base",
            "top": null,
            "grid_column": null,
            "overflow_y": null,
            "overflow_x": null,
            "grid_auto_flow": null,
            "grid_area": null,
            "grid_template_columns": null,
            "flex": null,
            "_model_name": "LayoutModel",
            "justify_items": null,
            "grid_row": null,
            "max_height": null,
            "align_content": null,
            "visibility": null,
            "align_self": null,
            "height": null,
            "min_height": null,
            "padding": null,
            "grid_auto_rows": null,
            "grid_gap": null,
            "max_width": null,
            "order": null,
            "_view_module_version": "1.2.0",
            "grid_template_areas": null,
            "object_position": null,
            "object_fit": null,
            "grid_auto_columns": null,
            "margin": null,
            "display": null,
            "left": null
          }
        },
        "230174cb9150432cb8c700c8eafac630": {
          "model_module": "@jupyter-widgets/controls",
          "model_name": "HBoxModel",
          "state": {
            "_view_name": "HBoxView",
            "_dom_classes": [],
            "_model_name": "HBoxModel",
            "_view_module": "@jupyter-widgets/controls",
            "_model_module_version": "1.5.0",
            "_view_count": null,
            "_view_module_version": "1.5.0",
            "box_style": "",
            "layout": "IPY_MODEL_4db909ae43bf4dfebb47031415233a93",
            "_model_module": "@jupyter-widgets/controls",
            "children": [
              "IPY_MODEL_11c4971b067441aebe31f56af2c30936",
              "IPY_MODEL_5681d34f629c4c7aad843825cfb63177"
            ]
          }
        },
        "4db909ae43bf4dfebb47031415233a93": {
          "model_module": "@jupyter-widgets/base",
          "model_name": "LayoutModel",
          "state": {
            "_view_name": "LayoutView",
            "grid_template_rows": null,
            "right": null,
            "justify_content": null,
            "_view_module": "@jupyter-widgets/base",
            "overflow": null,
            "_model_module_version": "1.2.0",
            "_view_count": null,
            "flex_flow": null,
            "width": null,
            "min_width": null,
            "border": null,
            "align_items": null,
            "bottom": null,
            "_model_module": "@jupyter-widgets/base",
            "top": null,
            "grid_column": null,
            "overflow_y": null,
            "overflow_x": null,
            "grid_auto_flow": null,
            "grid_area": null,
            "grid_template_columns": null,
            "flex": null,
            "_model_name": "LayoutModel",
            "justify_items": null,
            "grid_row": null,
            "max_height": null,
            "align_content": null,
            "visibility": null,
            "align_self": null,
            "height": null,
            "min_height": null,
            "padding": null,
            "grid_auto_rows": null,
            "grid_gap": null,
            "max_width": null,
            "order": null,
            "_view_module_version": "1.2.0",
            "grid_template_areas": null,
            "object_position": null,
            "object_fit": null,
            "grid_auto_columns": null,
            "margin": null,
            "display": null,
            "left": null
          }
        },
        "11c4971b067441aebe31f56af2c30936": {
          "model_module": "@jupyter-widgets/controls",
          "model_name": "FloatProgressModel",
          "state": {
            "_view_name": "ProgressView",
            "style": "IPY_MODEL_339f3caa2cb74f989ac7dc1bb47ec89b",
            "_dom_classes": [],
            "description": "Downloading: 100%",
            "_model_name": "FloatProgressModel",
            "bar_style": "success",
            "max": 1355256,
            "_view_module": "@jupyter-widgets/controls",
            "_model_module_version": "1.5.0",
            "value": 1355256,
            "_view_count": null,
            "_view_module_version": "1.5.0",
            "orientation": "horizontal",
            "min": 0,
            "description_tooltip": null,
            "_model_module": "@jupyter-widgets/controls",
            "layout": "IPY_MODEL_e3e03366d1fb40e6a7c2a20c2981ce53"
          }
        },
        "5681d34f629c4c7aad843825cfb63177": {
          "model_module": "@jupyter-widgets/controls",
          "model_name": "HTMLModel",
          "state": {
            "_view_name": "HTMLView",
            "style": "IPY_MODEL_49fa30cd49294061b493c71d3e1fa66f",
            "_dom_classes": [],
            "description": "",
            "_model_name": "HTMLModel",
            "placeholder": "​",
            "_view_module": "@jupyter-widgets/controls",
            "_model_module_version": "1.5.0",
            "value": " 1.36M/1.36M [00:00&lt;00:00, 3.07MB/s]",
            "_view_count": null,
            "_view_module_version": "1.5.0",
            "description_tooltip": null,
            "_model_module": "@jupyter-widgets/controls",
            "layout": "IPY_MODEL_7f40d3a50d4f4b1b8512b7778928aff9"
          }
        },
        "339f3caa2cb74f989ac7dc1bb47ec89b": {
          "model_module": "@jupyter-widgets/controls",
          "model_name": "ProgressStyleModel",
          "state": {
            "_view_name": "StyleView",
            "_model_name": "ProgressStyleModel",
            "description_width": "initial",
            "_view_module": "@jupyter-widgets/base",
            "_model_module_version": "1.5.0",
            "_view_count": null,
            "_view_module_version": "1.2.0",
            "bar_color": null,
            "_model_module": "@jupyter-widgets/controls"
          }
        },
        "e3e03366d1fb40e6a7c2a20c2981ce53": {
          "model_module": "@jupyter-widgets/base",
          "model_name": "LayoutModel",
          "state": {
            "_view_name": "LayoutView",
            "grid_template_rows": null,
            "right": null,
            "justify_content": null,
            "_view_module": "@jupyter-widgets/base",
            "overflow": null,
            "_model_module_version": "1.2.0",
            "_view_count": null,
            "flex_flow": null,
            "width": null,
            "min_width": null,
            "border": null,
            "align_items": null,
            "bottom": null,
            "_model_module": "@jupyter-widgets/base",
            "top": null,
            "grid_column": null,
            "overflow_y": null,
            "overflow_x": null,
            "grid_auto_flow": null,
            "grid_area": null,
            "grid_template_columns": null,
            "flex": null,
            "_model_name": "LayoutModel",
            "justify_items": null,
            "grid_row": null,
            "max_height": null,
            "align_content": null,
            "visibility": null,
            "align_self": null,
            "height": null,
            "min_height": null,
            "padding": null,
            "grid_auto_rows": null,
            "grid_gap": null,
            "max_width": null,
            "order": null,
            "_view_module_version": "1.2.0",
            "grid_template_areas": null,
            "object_position": null,
            "object_fit": null,
            "grid_auto_columns": null,
            "margin": null,
            "display": null,
            "left": null
          }
        },
        "49fa30cd49294061b493c71d3e1fa66f": {
          "model_module": "@jupyter-widgets/controls",
          "model_name": "DescriptionStyleModel",
          "state": {
            "_view_name": "StyleView",
            "_model_name": "DescriptionStyleModel",
            "description_width": "",
            "_view_module": "@jupyter-widgets/base",
            "_model_module_version": "1.5.0",
            "_view_count": null,
            "_view_module_version": "1.2.0",
            "_model_module": "@jupyter-widgets/controls"
          }
        },
        "7f40d3a50d4f4b1b8512b7778928aff9": {
          "model_module": "@jupyter-widgets/base",
          "model_name": "LayoutModel",
          "state": {
            "_view_name": "LayoutView",
            "grid_template_rows": null,
            "right": null,
            "justify_content": null,
            "_view_module": "@jupyter-widgets/base",
            "overflow": null,
            "_model_module_version": "1.2.0",
            "_view_count": null,
            "flex_flow": null,
            "width": null,
            "min_width": null,
            "border": null,
            "align_items": null,
            "bottom": null,
            "_model_module": "@jupyter-widgets/base",
            "top": null,
            "grid_column": null,
            "overflow_y": null,
            "overflow_x": null,
            "grid_auto_flow": null,
            "grid_area": null,
            "grid_template_columns": null,
            "flex": null,
            "_model_name": "LayoutModel",
            "justify_items": null,
            "grid_row": null,
            "max_height": null,
            "align_content": null,
            "visibility": null,
            "align_self": null,
            "height": null,
            "min_height": null,
            "padding": null,
            "grid_auto_rows": null,
            "grid_gap": null,
            "max_width": null,
            "order": null,
            "_view_module_version": "1.2.0",
            "grid_template_areas": null,
            "object_position": null,
            "object_fit": null,
            "grid_auto_columns": null,
            "margin": null,
            "display": null,
            "left": null
          }
        },
        "50e08e9b04224b0598cee8742b71ca5d": {
          "model_module": "@jupyter-widgets/controls",
          "model_name": "HBoxModel",
          "state": {
            "_view_name": "HBoxView",
            "_dom_classes": [],
            "_model_name": "HBoxModel",
            "_view_module": "@jupyter-widgets/controls",
            "_model_module_version": "1.5.0",
            "_view_count": null,
            "_view_module_version": "1.5.0",
            "box_style": "",
            "layout": "IPY_MODEL_769714a714964dabaeb77d4d1c80973e",
            "_model_module": "@jupyter-widgets/controls",
            "children": [
              "IPY_MODEL_e83d6b3815c345f69487c08504744771",
              "IPY_MODEL_14ff8327d1914430b63b89e7a0f218e3"
            ]
          }
        },
        "769714a714964dabaeb77d4d1c80973e": {
          "model_module": "@jupyter-widgets/base",
          "model_name": "LayoutModel",
          "state": {
            "_view_name": "LayoutView",
            "grid_template_rows": null,
            "right": null,
            "justify_content": null,
            "_view_module": "@jupyter-widgets/base",
            "overflow": null,
            "_model_module_version": "1.2.0",
            "_view_count": null,
            "flex_flow": null,
            "width": null,
            "min_width": null,
            "border": null,
            "align_items": null,
            "bottom": null,
            "_model_module": "@jupyter-widgets/base",
            "top": null,
            "grid_column": null,
            "overflow_y": null,
            "overflow_x": null,
            "grid_auto_flow": null,
            "grid_area": null,
            "grid_template_columns": null,
            "flex": null,
            "_model_name": "LayoutModel",
            "justify_items": null,
            "grid_row": null,
            "max_height": null,
            "align_content": null,
            "visibility": null,
            "align_self": null,
            "height": null,
            "min_height": null,
            "padding": null,
            "grid_auto_rows": null,
            "grid_gap": null,
            "max_width": null,
            "order": null,
            "_view_module_version": "1.2.0",
            "grid_template_areas": null,
            "object_position": null,
            "object_fit": null,
            "grid_auto_columns": null,
            "margin": null,
            "display": null,
            "left": null
          }
        },
        "e83d6b3815c345f69487c08504744771": {
          "model_module": "@jupyter-widgets/controls",
          "model_name": "FloatProgressModel",
          "state": {
            "_view_name": "ProgressView",
            "style": "IPY_MODEL_650beaf3d1944bbab5822d358ce21b78",
            "_dom_classes": [],
            "description": "Downloading: 100%",
            "_model_name": "FloatProgressModel",
            "bar_style": "success",
            "max": 665,
            "_view_module": "@jupyter-widgets/controls",
            "_model_module_version": "1.5.0",
            "value": 665,
            "_view_count": null,
            "_view_module_version": "1.5.0",
            "orientation": "horizontal",
            "min": 0,
            "description_tooltip": null,
            "_model_module": "@jupyter-widgets/controls",
            "layout": "IPY_MODEL_1882f6b1db564db5a88ea22b76d8e987"
          }
        },
        "14ff8327d1914430b63b89e7a0f218e3": {
          "model_module": "@jupyter-widgets/controls",
          "model_name": "HTMLModel",
          "state": {
            "_view_name": "HTMLView",
            "style": "IPY_MODEL_159f11172ee749bd9d14887b0a615829",
            "_dom_classes": [],
            "description": "",
            "_model_name": "HTMLModel",
            "placeholder": "​",
            "_view_module": "@jupyter-widgets/controls",
            "_model_module_version": "1.5.0",
            "value": " 665/665 [00:16&lt;00:00, 39.9B/s]",
            "_view_count": null,
            "_view_module_version": "1.5.0",
            "description_tooltip": null,
            "_model_module": "@jupyter-widgets/controls",
            "layout": "IPY_MODEL_e822eb4755134d59af6ed74cc1997282"
          }
        },
        "650beaf3d1944bbab5822d358ce21b78": {
          "model_module": "@jupyter-widgets/controls",
          "model_name": "ProgressStyleModel",
          "state": {
            "_view_name": "StyleView",
            "_model_name": "ProgressStyleModel",
            "description_width": "initial",
            "_view_module": "@jupyter-widgets/base",
            "_model_module_version": "1.5.0",
            "_view_count": null,
            "_view_module_version": "1.2.0",
            "bar_color": null,
            "_model_module": "@jupyter-widgets/controls"
          }
        },
        "1882f6b1db564db5a88ea22b76d8e987": {
          "model_module": "@jupyter-widgets/base",
          "model_name": "LayoutModel",
          "state": {
            "_view_name": "LayoutView",
            "grid_template_rows": null,
            "right": null,
            "justify_content": null,
            "_view_module": "@jupyter-widgets/base",
            "overflow": null,
            "_model_module_version": "1.2.0",
            "_view_count": null,
            "flex_flow": null,
            "width": null,
            "min_width": null,
            "border": null,
            "align_items": null,
            "bottom": null,
            "_model_module": "@jupyter-widgets/base",
            "top": null,
            "grid_column": null,
            "overflow_y": null,
            "overflow_x": null,
            "grid_auto_flow": null,
            "grid_area": null,
            "grid_template_columns": null,
            "flex": null,
            "_model_name": "LayoutModel",
            "justify_items": null,
            "grid_row": null,
            "max_height": null,
            "align_content": null,
            "visibility": null,
            "align_self": null,
            "height": null,
            "min_height": null,
            "padding": null,
            "grid_auto_rows": null,
            "grid_gap": null,
            "max_width": null,
            "order": null,
            "_view_module_version": "1.2.0",
            "grid_template_areas": null,
            "object_position": null,
            "object_fit": null,
            "grid_auto_columns": null,
            "margin": null,
            "display": null,
            "left": null
          }
        },
        "159f11172ee749bd9d14887b0a615829": {
          "model_module": "@jupyter-widgets/controls",
          "model_name": "DescriptionStyleModel",
          "state": {
            "_view_name": "StyleView",
            "_model_name": "DescriptionStyleModel",
            "description_width": "",
            "_view_module": "@jupyter-widgets/base",
            "_model_module_version": "1.5.0",
            "_view_count": null,
            "_view_module_version": "1.2.0",
            "_model_module": "@jupyter-widgets/controls"
          }
        },
        "e822eb4755134d59af6ed74cc1997282": {
          "model_module": "@jupyter-widgets/base",
          "model_name": "LayoutModel",
          "state": {
            "_view_name": "LayoutView",
            "grid_template_rows": null,
            "right": null,
            "justify_content": null,
            "_view_module": "@jupyter-widgets/base",
            "overflow": null,
            "_model_module_version": "1.2.0",
            "_view_count": null,
            "flex_flow": null,
            "width": null,
            "min_width": null,
            "border": null,
            "align_items": null,
            "bottom": null,
            "_model_module": "@jupyter-widgets/base",
            "top": null,
            "grid_column": null,
            "overflow_y": null,
            "overflow_x": null,
            "grid_auto_flow": null,
            "grid_area": null,
            "grid_template_columns": null,
            "flex": null,
            "_model_name": "LayoutModel",
            "justify_items": null,
            "grid_row": null,
            "max_height": null,
            "align_content": null,
            "visibility": null,
            "align_self": null,
            "height": null,
            "min_height": null,
            "padding": null,
            "grid_auto_rows": null,
            "grid_gap": null,
            "max_width": null,
            "order": null,
            "_view_module_version": "1.2.0",
            "grid_template_areas": null,
            "object_position": null,
            "object_fit": null,
            "grid_auto_columns": null,
            "margin": null,
            "display": null,
            "left": null
          }
        },
        "20d4e7d485f5443baf0058282622abee": {
          "model_module": "@jupyter-widgets/controls",
          "model_name": "HBoxModel",
          "state": {
            "_view_name": "HBoxView",
            "_dom_classes": [],
            "_model_name": "HBoxModel",
            "_view_module": "@jupyter-widgets/controls",
            "_model_module_version": "1.5.0",
            "_view_count": null,
            "_view_module_version": "1.5.0",
            "box_style": "",
            "layout": "IPY_MODEL_0e9582f8da4845b4973de5fed52fb472",
            "_model_module": "@jupyter-widgets/controls",
            "children": [
              "IPY_MODEL_5b0b317050344842bfe7243918925191",
              "IPY_MODEL_7287a35638b54697b6e6ea46f938e438"
            ]
          }
        },
        "0e9582f8da4845b4973de5fed52fb472": {
          "model_module": "@jupyter-widgets/base",
          "model_name": "LayoutModel",
          "state": {
            "_view_name": "LayoutView",
            "grid_template_rows": null,
            "right": null,
            "justify_content": null,
            "_view_module": "@jupyter-widgets/base",
            "overflow": null,
            "_model_module_version": "1.2.0",
            "_view_count": null,
            "flex_flow": null,
            "width": null,
            "min_width": null,
            "border": null,
            "align_items": null,
            "bottom": null,
            "_model_module": "@jupyter-widgets/base",
            "top": null,
            "grid_column": null,
            "overflow_y": null,
            "overflow_x": null,
            "grid_auto_flow": null,
            "grid_area": null,
            "grid_template_columns": null,
            "flex": null,
            "_model_name": "LayoutModel",
            "justify_items": null,
            "grid_row": null,
            "max_height": null,
            "align_content": null,
            "visibility": null,
            "align_self": null,
            "height": null,
            "min_height": null,
            "padding": null,
            "grid_auto_rows": null,
            "grid_gap": null,
            "max_width": null,
            "order": null,
            "_view_module_version": "1.2.0",
            "grid_template_areas": null,
            "object_position": null,
            "object_fit": null,
            "grid_auto_columns": null,
            "margin": null,
            "display": null,
            "left": null
          }
        },
        "5b0b317050344842bfe7243918925191": {
          "model_module": "@jupyter-widgets/controls",
          "model_name": "FloatProgressModel",
          "state": {
            "_view_name": "ProgressView",
            "style": "IPY_MODEL_a006426ff48a4c979437dc5ea6a514db",
            "_dom_classes": [],
            "description": "Downloading: 100%",
            "_model_name": "FloatProgressModel",
            "bar_style": "success",
            "max": 548118077,
            "_view_module": "@jupyter-widgets/controls",
            "_model_module_version": "1.5.0",
            "value": 548118077,
            "_view_count": null,
            "_view_module_version": "1.5.0",
            "orientation": "horizontal",
            "min": 0,
            "description_tooltip": null,
            "_model_module": "@jupyter-widgets/controls",
            "layout": "IPY_MODEL_6d95c078894340ddb2b1582213a9cbe0"
          }
        },
        "7287a35638b54697b6e6ea46f938e438": {
          "model_module": "@jupyter-widgets/controls",
          "model_name": "HTMLModel",
          "state": {
            "_view_name": "HTMLView",
            "style": "IPY_MODEL_0a07e8b527c94220ad9348659dc314a1",
            "_dom_classes": [],
            "description": "",
            "_model_name": "HTMLModel",
            "placeholder": "​",
            "_view_module": "@jupyter-widgets/controls",
            "_model_module_version": "1.5.0",
            "value": " 548M/548M [00:10&lt;00:00, 51.7MB/s]",
            "_view_count": null,
            "_view_module_version": "1.5.0",
            "description_tooltip": null,
            "_model_module": "@jupyter-widgets/controls",
            "layout": "IPY_MODEL_a78a06fd8d4d48e4ae01d551185b173c"
          }
        },
        "a006426ff48a4c979437dc5ea6a514db": {
          "model_module": "@jupyter-widgets/controls",
          "model_name": "ProgressStyleModel",
          "state": {
            "_view_name": "StyleView",
            "_model_name": "ProgressStyleModel",
            "description_width": "initial",
            "_view_module": "@jupyter-widgets/base",
            "_model_module_version": "1.5.0",
            "_view_count": null,
            "_view_module_version": "1.2.0",
            "bar_color": null,
            "_model_module": "@jupyter-widgets/controls"
          }
        },
        "6d95c078894340ddb2b1582213a9cbe0": {
          "model_module": "@jupyter-widgets/base",
          "model_name": "LayoutModel",
          "state": {
            "_view_name": "LayoutView",
            "grid_template_rows": null,
            "right": null,
            "justify_content": null,
            "_view_module": "@jupyter-widgets/base",
            "overflow": null,
            "_model_module_version": "1.2.0",
            "_view_count": null,
            "flex_flow": null,
            "width": null,
            "min_width": null,
            "border": null,
            "align_items": null,
            "bottom": null,
            "_model_module": "@jupyter-widgets/base",
            "top": null,
            "grid_column": null,
            "overflow_y": null,
            "overflow_x": null,
            "grid_auto_flow": null,
            "grid_area": null,
            "grid_template_columns": null,
            "flex": null,
            "_model_name": "LayoutModel",
            "justify_items": null,
            "grid_row": null,
            "max_height": null,
            "align_content": null,
            "visibility": null,
            "align_self": null,
            "height": null,
            "min_height": null,
            "padding": null,
            "grid_auto_rows": null,
            "grid_gap": null,
            "max_width": null,
            "order": null,
            "_view_module_version": "1.2.0",
            "grid_template_areas": null,
            "object_position": null,
            "object_fit": null,
            "grid_auto_columns": null,
            "margin": null,
            "display": null,
            "left": null
          }
        },
        "0a07e8b527c94220ad9348659dc314a1": {
          "model_module": "@jupyter-widgets/controls",
          "model_name": "DescriptionStyleModel",
          "state": {
            "_view_name": "StyleView",
            "_model_name": "DescriptionStyleModel",
            "description_width": "",
            "_view_module": "@jupyter-widgets/base",
            "_model_module_version": "1.5.0",
            "_view_count": null,
            "_view_module_version": "1.2.0",
            "_model_module": "@jupyter-widgets/controls"
          }
        },
        "a78a06fd8d4d48e4ae01d551185b173c": {
          "model_module": "@jupyter-widgets/base",
          "model_name": "LayoutModel",
          "state": {
            "_view_name": "LayoutView",
            "grid_template_rows": null,
            "right": null,
            "justify_content": null,
            "_view_module": "@jupyter-widgets/base",
            "overflow": null,
            "_model_module_version": "1.2.0",
            "_view_count": null,
            "flex_flow": null,
            "width": null,
            "min_width": null,
            "border": null,
            "align_items": null,
            "bottom": null,
            "_model_module": "@jupyter-widgets/base",
            "top": null,
            "grid_column": null,
            "overflow_y": null,
            "overflow_x": null,
            "grid_auto_flow": null,
            "grid_area": null,
            "grid_template_columns": null,
            "flex": null,
            "_model_name": "LayoutModel",
            "justify_items": null,
            "grid_row": null,
            "max_height": null,
            "align_content": null,
            "visibility": null,
            "align_self": null,
            "height": null,
            "min_height": null,
            "padding": null,
            "grid_auto_rows": null,
            "grid_gap": null,
            "max_width": null,
            "order": null,
            "_view_module_version": "1.2.0",
            "grid_template_areas": null,
            "object_position": null,
            "object_fit": null,
            "grid_auto_columns": null,
            "margin": null,
            "display": null,
            "left": null
          }
        }
      }
    }
  },
  "cells": [
    {
      "cell_type": "markdown",
      "metadata": {
        "id": "IxZ97MQPbj90"
      },
      "source": [
        "# Feed-forward and Recurrent Language Models"
      ]
    },
    {
      "cell_type": "markdown",
      "metadata": {
        "id": "boBiVnD89rKR"
      },
      "source": [
        "### Preliminaries"
      ]
    },
    {
      "cell_type": "code",
      "metadata": {
        "colab": {
          "base_uri": "https://localhost:8080/"
        },
        "id": "MrOv_3Yz9rKR",
        "outputId": "6b9f24c9-8162-4ff6-a162-01354f8735e5"
      },
      "source": [
        "%pylab inline\n",
        "%load_ext autoreload\n",
        "%autoreload 2"
      ],
      "execution_count": null,
      "outputs": [
        {
          "output_type": "stream",
          "text": [
            "Populating the interactive namespace from numpy and matplotlib\n"
          ],
          "name": "stdout"
        }
      ]
    },
    {
      "cell_type": "code",
      "metadata": {
        "colab": {
          "base_uri": "https://localhost:8080/"
        },
        "id": "RSqJllXkKGZR",
        "outputId": "9361e377-fa4a-4644-c6b0-901b27c24319"
      },
      "source": [
        "# TODO: Download data files\n",
        "# download pretrained models and data\n",
        "### DOWNLOADING THE FILES\n",
        "import os\n",
        "\n",
        "### persona chat dataset\n",
        "if not os.path.exists('personachat_all_sentences_train.jsonl'):\n",
        "    !wget \"https://nyu.box.com/shared/static/q4nvswb0szelivhgyx87vd1056ttqfyi.jsonl\" -O 'personachat_all_sentences_train.jsonl'\n",
        "if not os.path.exists('personachat_all_sentences_valid.jsonl'):\n",
        "    !wget \"https://nyu.box.com/shared/static/8krcizo8sms1m0ppy7uiwfcx4a3l5nsq.jsonl\" -O 'personachat_all_sentences_valid.jsonl'\n",
        "if not os.path.exists('personachat_all_sentences_test.jsonl'):\n",
        "    !wget \"https://nyu.box.com/shared/static/im7we9k2gcf8kslqnfamsimicgosuw9y.jsonl\" -O 'personachat_all_sentences_test.jsonl'\n",
        "\n",
        "## wikitext-2 dataset\n",
        "if not os.path.exists('wikitext2-sentencized.json'):\n",
        "    !wget \"https://nyu.box.com/shared/static/9kb7l7ci30hb6uahhbssjlq0kctr5ii4.json\" -O 'wikitext2-sentencized.json'\n",
        "\n",
        "### pretrained ffnn model\n",
        "if not os.path.exists('personachat_ffnn_lm.pt'):\n",
        "    !wget \"https://nyu.box.com/shared/static/looczvct7ssh30x0gwqmvencple8xok9.pt\" -O 'personachat_ffnn_lm.pt'\n",
        "\n",
        "### pretrained rnn model\n",
        "if not os.path.exists('personachat_rnn_lm.pt'):\n",
        "    !wget \"https://nyu.box.com/shared/static/3jl9erctnvbefnczgmetkdil0xwpcxzb.pt\" -O 'personachat_rnn_lm.pt'\n",
        "\n",
        "### data processing file\n",
        "if not os.path.exists('data.py'):\n",
        "    !wget \"https://gist.githubusercontent.com/ethanjperez/304c855ffd0d6da4f8d6ce6a31ff25d2/raw/31cc574c2bc0fe52a9053793559142a938cb4e98/data.py\" -O \"data.py\"\n",
        "\n",
        "!touch __init__.py"
      ],
      "execution_count": null,
      "outputs": [
        {
          "output_type": "stream",
          "text": [
            "--2021-04-28 20:53:14--  https://nyu.box.com/shared/static/q4nvswb0szelivhgyx87vd1056ttqfyi.jsonl\n",
            "Resolving nyu.box.com (nyu.box.com)... 107.152.24.197\n",
            "Connecting to nyu.box.com (nyu.box.com)|107.152.24.197|:443... connected.\n",
            "HTTP request sent, awaiting response... 301 Moved Permanently\n",
            "Location: /public/static/q4nvswb0szelivhgyx87vd1056ttqfyi.jsonl [following]\n",
            "--2021-04-28 20:53:14--  https://nyu.box.com/public/static/q4nvswb0szelivhgyx87vd1056ttqfyi.jsonl\n",
            "Reusing existing connection to nyu.box.com:443.\n",
            "HTTP request sent, awaiting response... 301 Moved Permanently\n",
            "Location: https://nyu.app.box.com/public/static/q4nvswb0szelivhgyx87vd1056ttqfyi.jsonl [following]\n",
            "--2021-04-28 20:53:15--  https://nyu.app.box.com/public/static/q4nvswb0szelivhgyx87vd1056ttqfyi.jsonl\n",
            "Resolving nyu.app.box.com (nyu.app.box.com)... 107.152.24.201\n",
            "Connecting to nyu.app.box.com (nyu.app.box.com)|107.152.24.201|:443... connected.\n",
            "HTTP request sent, awaiting response... 302 Found\n",
            "Location: https://public.boxcloud.com/d/1/b1!aeWaLue9vTd1M-sR9Who1JsEgik3TBqYCYGXTUXFoXOlumDdpwDSGCsqQx2fr7b_fGTkOW2hxf2tIPeADANQ8_YQzceJ3c3ppG-LQpY1N2x9jNtu7CC0254mLp0cy2AlAdQ8SyQ0_EeBJ0kQw6IOa2UoR-MFi2rCIKlUAJgIx3PxSrKLYPZXMQel0E8Bly8Uj8yLBkzffPI_kso2I62qra5SISiuNbXHVFBOSePpXGeuJSX4x7m3w0Ii-xTuNfPqeWTXAtPqF6DQwyFA90raYAcliS2LwQuS-mscVqkJyjujHURT30xDZ1SJi1RaL7tT7m_BzKeheSe9WFJ8XLP71lg1eYRpIDSmIXUskhWKBAXcbip3aa6hH7DnuF_ysVdh24O_3ZQw2AQZrLkPezqQDNYDjl-0TKNP1eYqoaPDV26KZkIfSvnlBpC5N8wJx8270fMbca0GzGXxAfEAa7-gR0zmYnkcDlvh0lpsHz8mLoxlB6X4k54VcAx62y22-Ayq_wTIaFQfWxws-r4qOfNTXBy7ZW-l6LX7gc6VzehEsdj6hT0XyEI9oiP2nUjzhxmObH12QkmcbkxnsinXBRD7qOwoYmhi4HJ03fooJaqQaj7Qvm1JLX2okkPzWjYMXS6naQFq7XJayAyc3QJKMI3Z85hbRLy0FezPakUBJor73NP26MZDktUUYl31LQMA29okc3FzORSxPw4rDsVCoBpwmrszqk8U3NSTszmnoIGs9fx9bk6X4iNzooI55Z9q8jLx0W_BBI-yjlNNTX6C4iUrN5UeRyKN8QZVi7Q45Ntfj0W4izTHmIVqnTKDqZyt95uv63T61Ytu6yfUIQr7_sqn8psFdd0q1xT9_xgMXvtnCS9eO6BDzlZg9HTaT3yoytOdTgpcoVX9RuvTxElQzhJhQ0F1O8t3koJ0fTzVeXRlZ1nIHZhyy8ml8CWsoJUHL_VGusZ20Cp-_yVpd7vz6lC-OGl-Ad0wtNQ8PSQY5DMHfp2Cl8y7CID303pbSvmDSxDj9DIfncWzULFbKCSHx9N22pf_AQOzuVJawvhWwH10QbguPLoBJhxj5lLuMN2x4EKrGxK6nhsQtWEvMJ0dA_7ov7tc_hi1ynnahd16_wrh7a1ddJKpt3VoprTGiOf0Gyike8IOlVmPkQOudm1LHmbRaKiZ0xzyr-LmPBf0VgdJyyvTpFuWX1qMGi5S8nSxbQcFc8ifSbPm8gCUMv7pnL0JKpYBpyrydi6j-aYcMEMDQl7JLt9C8ueVQMZSiFwAEZ47lNcHZF-tcmsp0_qvTxkGuopbQPDfLqANsnOFx3hXAFDA7SKnd6jsohKBz63LsqzpWzlQQAf9WzX1abJh9KolJBOVxkgazQEXgZBT9W3PRpvbHYZvTyATTsEAoXbnSJ5bI93e_RlpFG24EYv9hDAXbtx29qi0cE0sS1XVlX8UVFqcTcgnumo7aQEstYqrdgl1NYlyyg../download [following]\n",
            "--2021-04-28 20:53:15--  https://public.boxcloud.com/d/1/b1!aeWaLue9vTd1M-sR9Who1JsEgik3TBqYCYGXTUXFoXOlumDdpwDSGCsqQx2fr7b_fGTkOW2hxf2tIPeADANQ8_YQzceJ3c3ppG-LQpY1N2x9jNtu7CC0254mLp0cy2AlAdQ8SyQ0_EeBJ0kQw6IOa2UoR-MFi2rCIKlUAJgIx3PxSrKLYPZXMQel0E8Bly8Uj8yLBkzffPI_kso2I62qra5SISiuNbXHVFBOSePpXGeuJSX4x7m3w0Ii-xTuNfPqeWTXAtPqF6DQwyFA90raYAcliS2LwQuS-mscVqkJyjujHURT30xDZ1SJi1RaL7tT7m_BzKeheSe9WFJ8XLP71lg1eYRpIDSmIXUskhWKBAXcbip3aa6hH7DnuF_ysVdh24O_3ZQw2AQZrLkPezqQDNYDjl-0TKNP1eYqoaPDV26KZkIfSvnlBpC5N8wJx8270fMbca0GzGXxAfEAa7-gR0zmYnkcDlvh0lpsHz8mLoxlB6X4k54VcAx62y22-Ayq_wTIaFQfWxws-r4qOfNTXBy7ZW-l6LX7gc6VzehEsdj6hT0XyEI9oiP2nUjzhxmObH12QkmcbkxnsinXBRD7qOwoYmhi4HJ03fooJaqQaj7Qvm1JLX2okkPzWjYMXS6naQFq7XJayAyc3QJKMI3Z85hbRLy0FezPakUBJor73NP26MZDktUUYl31LQMA29okc3FzORSxPw4rDsVCoBpwmrszqk8U3NSTszmnoIGs9fx9bk6X4iNzooI55Z9q8jLx0W_BBI-yjlNNTX6C4iUrN5UeRyKN8QZVi7Q45Ntfj0W4izTHmIVqnTKDqZyt95uv63T61Ytu6yfUIQr7_sqn8psFdd0q1xT9_xgMXvtnCS9eO6BDzlZg9HTaT3yoytOdTgpcoVX9RuvTxElQzhJhQ0F1O8t3koJ0fTzVeXRlZ1nIHZhyy8ml8CWsoJUHL_VGusZ20Cp-_yVpd7vz6lC-OGl-Ad0wtNQ8PSQY5DMHfp2Cl8y7CID303pbSvmDSxDj9DIfncWzULFbKCSHx9N22pf_AQOzuVJawvhWwH10QbguPLoBJhxj5lLuMN2x4EKrGxK6nhsQtWEvMJ0dA_7ov7tc_hi1ynnahd16_wrh7a1ddJKpt3VoprTGiOf0Gyike8IOlVmPkQOudm1LHmbRaKiZ0xzyr-LmPBf0VgdJyyvTpFuWX1qMGi5S8nSxbQcFc8ifSbPm8gCUMv7pnL0JKpYBpyrydi6j-aYcMEMDQl7JLt9C8ueVQMZSiFwAEZ47lNcHZF-tcmsp0_qvTxkGuopbQPDfLqANsnOFx3hXAFDA7SKnd6jsohKBz63LsqzpWzlQQAf9WzX1abJh9KolJBOVxkgazQEXgZBT9W3PRpvbHYZvTyATTsEAoXbnSJ5bI93e_RlpFG24EYv9hDAXbtx29qi0cE0sS1XVlX8UVFqcTcgnumo7aQEstYqrdgl1NYlyyg../download\n",
            "Resolving public.boxcloud.com (public.boxcloud.com)... 107.152.24.200\n",
            "Connecting to public.boxcloud.com (public.boxcloud.com)|107.152.24.200|:443... connected.\n",
            "HTTP request sent, awaiting response... 200 OK\n",
            "Length: 13403897 (13M) [application/octet-stream]\n",
            "Saving to: ‘personachat_all_sentences_train.jsonl’\n",
            "\n",
            "personachat_all_sen 100%[===================>]  12.78M  27.3MB/s    in 0.5s    \n",
            "\n",
            "2021-04-28 20:53:16 (27.3 MB/s) - ‘personachat_all_sentences_train.jsonl’ saved [13403897/13403897]\n",
            "\n",
            "--2021-04-28 20:53:16--  https://nyu.box.com/shared/static/8krcizo8sms1m0ppy7uiwfcx4a3l5nsq.jsonl\n",
            "Resolving nyu.box.com (nyu.box.com)... 107.152.24.197\n",
            "Connecting to nyu.box.com (nyu.box.com)|107.152.24.197|:443... connected.\n",
            "HTTP request sent, awaiting response... 301 Moved Permanently\n",
            "Location: /public/static/8krcizo8sms1m0ppy7uiwfcx4a3l5nsq.jsonl [following]\n",
            "--2021-04-28 20:53:17--  https://nyu.box.com/public/static/8krcizo8sms1m0ppy7uiwfcx4a3l5nsq.jsonl\n",
            "Reusing existing connection to nyu.box.com:443.\n",
            "HTTP request sent, awaiting response... 301 Moved Permanently\n",
            "Location: https://nyu.app.box.com/public/static/8krcizo8sms1m0ppy7uiwfcx4a3l5nsq.jsonl [following]\n",
            "--2021-04-28 20:53:17--  https://nyu.app.box.com/public/static/8krcizo8sms1m0ppy7uiwfcx4a3l5nsq.jsonl\n",
            "Resolving nyu.app.box.com (nyu.app.box.com)... 107.152.24.201\n",
            "Connecting to nyu.app.box.com (nyu.app.box.com)|107.152.24.201|:443... connected.\n",
            "HTTP request sent, awaiting response... 302 Found\n",
            "Location: https://public.boxcloud.com/d/1/b1!XbTdUkHGOCPkUVhLt_S70zsAOibyVGgY9wPCtsm8_eZ-QYigIIsVIJOKVY9saOQiIU3hVNUomsUuxmVZ-CA2bXzIvxMtWb-ztyF_vZio_XpQ0uTET31YBGrcxBuqN57tVyT4rYEJk55cVcaBqy8SL_8W7KuxLvz9MrhUOv7gxf0d4vYJZzRsf1tpoM5Egll8cSucfjp0r8XfYaZ4N3TwLuhfZT9aeSoOkB4dVXjr3nZ8uWSd8BAjaQpMevbdKi2duQDKjFZzUyT14sxxJwhSlodg-OOruJ9_PISFLm17E2eXm_kmBzH0uj2zrvcdER77BAHEOIsLlyT6AQXJyAqxXfCqLewtM7ZzNd02mHtcaE4kUbX5nRIy24iz3xqz3Syb1FI1d5wIvHQV7LClLRX3TtVjEyFSExVJbezjZkVDIemWGQZugxiSYWSyOMVAzXl_N40CtX0rd4ma8pnx8lPlSOmj1La9_ZasXuceNtHmoToj0Qcv1ByxSe8HOrds8kaA_LJn6LZBpu53Z2VNYW1vRPgPKER7nh1BOcYezoN_zuLYaH-9rNikK9yka8feJI9WhuHxU96J3Iym_UoYZoNUeVe2kO3Me0cGCVvB9YjVhSXepl3twABl4AKC54EMD4W_unf5AyIaoSCALBs81oubVInzVkiWWZaNK3ldRfTJXb7A8tEdjZJ6vMNukJe_f7SAIhjLlJ1_sxIK4wvDs8UPbobWrZHp_-RquqDAu87y1pwds18ThyPuBA4Nj3PlO5kF7qqaCG1Lpp0fDLT0pr0-uVaayKQqmdaGXjPnSTQFzKvTTwKOoMYfqJaOfy_r4CZef4NLmYpss1upv75dh5_wTI9_eU81bV-okJHbQ_PP9rSIh4sX9hfFEb5S8geC1sS_qAYXSVAdlfl13PujzpDXkR_nTzbcuE8iic_eGVf9JZQmnjIR8Fxaa9s6FNkIYwAezEZIEtU6rI-ZylLM_NrP_ftsTK85ydkrgv9UbrbbL9o87e-R6_9QgD7EfPu2ESFKRZOyMmD_uYQ2UfEwYy2bA66zhVq3GY9ONNI-oIqGlc4M5MdUpZ37CVw6paPNFZdp_0d_o_lbjl0h01J2wyrx1EftpAg4ZK-zP5PpcTPc18wtQf9TZnS1CMFfLGP-_T34uGSDBkPn9JuWE6S4PzZzH657hXVC4HucLSYVlsGOy2RZZ5k9lNZ2OvRRmidLW0vEHGxpMff8HvJKYs-Enq02XtIIxqOzh91pJf79LZh1qx9H8I1X2ULv8_UHkEATCYs29rJrm6-ndZ2p4PmXlhNJcezzTiz780qdiDxOBv3W5PH4s8R8Fn1eU9GhNS3mPuNc1W-ujDqeIhlEGqOPcDNh8s2kgxvx9RDAYZMca64fnzz7thNm1x_GVCsdFjTmAHC3lLFjSYvaVNaHBBf5YHEHLFq6DqlO0UG2wfu5EyDHN1mE3LVAuAxe-y_ENocQLBr8OOSH/download [following]\n",
            "--2021-04-28 20:53:17--  https://public.boxcloud.com/d/1/b1!XbTdUkHGOCPkUVhLt_S70zsAOibyVGgY9wPCtsm8_eZ-QYigIIsVIJOKVY9saOQiIU3hVNUomsUuxmVZ-CA2bXzIvxMtWb-ztyF_vZio_XpQ0uTET31YBGrcxBuqN57tVyT4rYEJk55cVcaBqy8SL_8W7KuxLvz9MrhUOv7gxf0d4vYJZzRsf1tpoM5Egll8cSucfjp0r8XfYaZ4N3TwLuhfZT9aeSoOkB4dVXjr3nZ8uWSd8BAjaQpMevbdKi2duQDKjFZzUyT14sxxJwhSlodg-OOruJ9_PISFLm17E2eXm_kmBzH0uj2zrvcdER77BAHEOIsLlyT6AQXJyAqxXfCqLewtM7ZzNd02mHtcaE4kUbX5nRIy24iz3xqz3Syb1FI1d5wIvHQV7LClLRX3TtVjEyFSExVJbezjZkVDIemWGQZugxiSYWSyOMVAzXl_N40CtX0rd4ma8pnx8lPlSOmj1La9_ZasXuceNtHmoToj0Qcv1ByxSe8HOrds8kaA_LJn6LZBpu53Z2VNYW1vRPgPKER7nh1BOcYezoN_zuLYaH-9rNikK9yka8feJI9WhuHxU96J3Iym_UoYZoNUeVe2kO3Me0cGCVvB9YjVhSXepl3twABl4AKC54EMD4W_unf5AyIaoSCALBs81oubVInzVkiWWZaNK3ldRfTJXb7A8tEdjZJ6vMNukJe_f7SAIhjLlJ1_sxIK4wvDs8UPbobWrZHp_-RquqDAu87y1pwds18ThyPuBA4Nj3PlO5kF7qqaCG1Lpp0fDLT0pr0-uVaayKQqmdaGXjPnSTQFzKvTTwKOoMYfqJaOfy_r4CZef4NLmYpss1upv75dh5_wTI9_eU81bV-okJHbQ_PP9rSIh4sX9hfFEb5S8geC1sS_qAYXSVAdlfl13PujzpDXkR_nTzbcuE8iic_eGVf9JZQmnjIR8Fxaa9s6FNkIYwAezEZIEtU6rI-ZylLM_NrP_ftsTK85ydkrgv9UbrbbL9o87e-R6_9QgD7EfPu2ESFKRZOyMmD_uYQ2UfEwYy2bA66zhVq3GY9ONNI-oIqGlc4M5MdUpZ37CVw6paPNFZdp_0d_o_lbjl0h01J2wyrx1EftpAg4ZK-zP5PpcTPc18wtQf9TZnS1CMFfLGP-_T34uGSDBkPn9JuWE6S4PzZzH657hXVC4HucLSYVlsGOy2RZZ5k9lNZ2OvRRmidLW0vEHGxpMff8HvJKYs-Enq02XtIIxqOzh91pJf79LZh1qx9H8I1X2ULv8_UHkEATCYs29rJrm6-ndZ2p4PmXlhNJcezzTiz780qdiDxOBv3W5PH4s8R8Fn1eU9GhNS3mPuNc1W-ujDqeIhlEGqOPcDNh8s2kgxvx9RDAYZMca64fnzz7thNm1x_GVCsdFjTmAHC3lLFjSYvaVNaHBBf5YHEHLFq6DqlO0UG2wfu5EyDHN1mE3LVAuAxe-y_ENocQLBr8OOSH/download\n",
            "Resolving public.boxcloud.com (public.boxcloud.com)... 107.152.24.200\n",
            "Connecting to public.boxcloud.com (public.boxcloud.com)|107.152.24.200|:443... connected.\n",
            "HTTP request sent, awaiting response... 200 OK\n",
            "Length: 1640194 (1.6M) [application/octet-stream]\n",
            "Saving to: ‘personachat_all_sentences_valid.jsonl’\n",
            "\n",
            "personachat_all_sen 100%[===================>]   1.56M  --.-KB/s    in 0.1s    \n",
            "\n",
            "2021-04-28 20:53:18 (14.2 MB/s) - ‘personachat_all_sentences_valid.jsonl’ saved [1640194/1640194]\n",
            "\n",
            "--2021-04-28 20:53:18--  https://nyu.box.com/shared/static/im7we9k2gcf8kslqnfamsimicgosuw9y.jsonl\n",
            "Resolving nyu.box.com (nyu.box.com)... 107.152.24.197\n",
            "Connecting to nyu.box.com (nyu.box.com)|107.152.24.197|:443... connected.\n",
            "HTTP request sent, awaiting response... 301 Moved Permanently\n",
            "Location: /public/static/im7we9k2gcf8kslqnfamsimicgosuw9y.jsonl [following]\n",
            "--2021-04-28 20:53:18--  https://nyu.box.com/public/static/im7we9k2gcf8kslqnfamsimicgosuw9y.jsonl\n",
            "Reusing existing connection to nyu.box.com:443.\n",
            "HTTP request sent, awaiting response... 301 Moved Permanently\n",
            "Location: https://nyu.app.box.com/public/static/im7we9k2gcf8kslqnfamsimicgosuw9y.jsonl [following]\n",
            "--2021-04-28 20:53:18--  https://nyu.app.box.com/public/static/im7we9k2gcf8kslqnfamsimicgosuw9y.jsonl\n",
            "Resolving nyu.app.box.com (nyu.app.box.com)... 107.152.24.201\n",
            "Connecting to nyu.app.box.com (nyu.app.box.com)|107.152.24.201|:443... connected.\n",
            "HTTP request sent, awaiting response... 302 Found\n",
            "Location: https://public.boxcloud.com/d/1/b1!iSmhp3ZIwpoWh6PRJuruF1wfU63YX6TIFJ7WewPSVBTtmmwmwKG0wlZmnzNYlIv110LieZuG7aN8wBrzvWNobUZ9xyC5VgiBb-jNg4RLZ5J94uon5hgPs5gaN6rc9ZBLbyJCvRWdW2IgLaiwplTVqrG95Rq2DwRl9z08wyex0RdXAe9OcXUjO4kam8gTUagk8KmaKc0de2d3Nm-6ODZTF5EDrUelL7phMEaaSEbJ1mEDyiDzzWPvO4kOd9meGRvbRY594gYa-jKTitjX5ac4Fv_KM9gaPFrprm3ZsbT5tDReTaOhEQR4GDloGbvnRB6QXeKuNJd1r-X-nbma7JWTiGPh7pmmuO4copcETtejX2uwAweo-BasM2uJ99UAPfnzdzPE2LXLLyz1ZXFTjtIhgCLbG-OETv2fPvxN1vn-ymHQeilZhMm5VVOTAV4jfhNftN22lf6fffKv8eoTIRrQK7kTlUrIHBjDG44gPPg30npafGCc_w4Sx_TwpDu3N2-i_tnIvwi7npX-EAYx09MGSQdGQ-gqYsxzR08jtTE1BXOpN-X_kX4ILB0phjlsbby7UgIBv8NWTFmX9TmgQOq5PWMAuGt7tl5pXQfLAPcFYcy1zAygrVnycEIO8VSJ_6af8iQGC2oREMHBWXqj2vXluCo6R7Tx6Q_rxjGUDytiB1n6laZ8EuU06g5rdy9R86H3OTTFflrQv28RU92ZNGoVpM4WSYmdWahRvwCipcoFvS_wbve2MV8uLdgkkWY7_3cZ50sAdfTzBYAX2bkI69Z27PDoxEg8BSPdaX_fsygaapQlKIJlpRQIHbdr59Rz-sYMApLVhJmSW1GSjcsQayVqKTqCMTWjf4ncfNIwP2gYXDg3b__fPkm1dQxB3GKSPHjE58YFh4GF32cTrJEzMiBEU4aBWlF6iEj3Dazoh0ZxL2nAiwFb75eDmvD6WD8vvvZooPH3iL-JlktCfRb_xT8Y-U1Tbo_AD-q8Eku04pcp8mlHxTYZz62v3EFIYAFrafq4q0v2b4OKbuKai8RGf3b-VjKknfhRZB43vUx4C3Z0b7y0dqJOWGfXFUBry48Nnnu4IbIJCVUEYZqfZeP1AoPmvVigz5Q1KpCByH1RfgJSds0RCTKjaPiDK5VqCZc9mpZ2zyFF54UQxeYGgqIUfXrnWPtx4GnO47zYEF-9_AKaAcQoS5cMIdBkHLqKAztJcFgxegdsv03HnAw0O8n29hZfd1wII2PL4bo-iNtyH-L-noeA1C35dpZG_7Bz5QFbXF9fU-LKdXCeAhyr6rIEmqMwjamlYQibgjPUnmIouuNwu0nyDPbPeOe3BoppJBjzuRs5asCz_EgozG8VWatw8zov9vp2WIpRiC2aXzCZw5R5xb-NNZxw1tb1PV4-qIfsnbeqNVR_BQ-Jo_3mW4R9RtmiIf3zwnYjPPHr/download [following]\n",
            "--2021-04-28 20:53:19--  https://public.boxcloud.com/d/1/b1!iSmhp3ZIwpoWh6PRJuruF1wfU63YX6TIFJ7WewPSVBTtmmwmwKG0wlZmnzNYlIv110LieZuG7aN8wBrzvWNobUZ9xyC5VgiBb-jNg4RLZ5J94uon5hgPs5gaN6rc9ZBLbyJCvRWdW2IgLaiwplTVqrG95Rq2DwRl9z08wyex0RdXAe9OcXUjO4kam8gTUagk8KmaKc0de2d3Nm-6ODZTF5EDrUelL7phMEaaSEbJ1mEDyiDzzWPvO4kOd9meGRvbRY594gYa-jKTitjX5ac4Fv_KM9gaPFrprm3ZsbT5tDReTaOhEQR4GDloGbvnRB6QXeKuNJd1r-X-nbma7JWTiGPh7pmmuO4copcETtejX2uwAweo-BasM2uJ99UAPfnzdzPE2LXLLyz1ZXFTjtIhgCLbG-OETv2fPvxN1vn-ymHQeilZhMm5VVOTAV4jfhNftN22lf6fffKv8eoTIRrQK7kTlUrIHBjDG44gPPg30npafGCc_w4Sx_TwpDu3N2-i_tnIvwi7npX-EAYx09MGSQdGQ-gqYsxzR08jtTE1BXOpN-X_kX4ILB0phjlsbby7UgIBv8NWTFmX9TmgQOq5PWMAuGt7tl5pXQfLAPcFYcy1zAygrVnycEIO8VSJ_6af8iQGC2oREMHBWXqj2vXluCo6R7Tx6Q_rxjGUDytiB1n6laZ8EuU06g5rdy9R86H3OTTFflrQv28RU92ZNGoVpM4WSYmdWahRvwCipcoFvS_wbve2MV8uLdgkkWY7_3cZ50sAdfTzBYAX2bkI69Z27PDoxEg8BSPdaX_fsygaapQlKIJlpRQIHbdr59Rz-sYMApLVhJmSW1GSjcsQayVqKTqCMTWjf4ncfNIwP2gYXDg3b__fPkm1dQxB3GKSPHjE58YFh4GF32cTrJEzMiBEU4aBWlF6iEj3Dazoh0ZxL2nAiwFb75eDmvD6WD8vvvZooPH3iL-JlktCfRb_xT8Y-U1Tbo_AD-q8Eku04pcp8mlHxTYZz62v3EFIYAFrafq4q0v2b4OKbuKai8RGf3b-VjKknfhRZB43vUx4C3Z0b7y0dqJOWGfXFUBry48Nnnu4IbIJCVUEYZqfZeP1AoPmvVigz5Q1KpCByH1RfgJSds0RCTKjaPiDK5VqCZc9mpZ2zyFF54UQxeYGgqIUfXrnWPtx4GnO47zYEF-9_AKaAcQoS5cMIdBkHLqKAztJcFgxegdsv03HnAw0O8n29hZfd1wII2PL4bo-iNtyH-L-noeA1C35dpZG_7Bz5QFbXF9fU-LKdXCeAhyr6rIEmqMwjamlYQibgjPUnmIouuNwu0nyDPbPeOe3BoppJBjzuRs5asCz_EgozG8VWatw8zov9vp2WIpRiC2aXzCZw5R5xb-NNZxw1tb1PV4-qIfsnbeqNVR_BQ-Jo_3mW4R9RtmiIf3zwnYjPPHr/download\n",
            "Resolving public.boxcloud.com (public.boxcloud.com)... 107.152.24.200\n",
            "Connecting to public.boxcloud.com (public.boxcloud.com)|107.152.24.200|:443... connected.\n",
            "HTTP request sent, awaiting response... 200 OK\n",
            "Length: 1559597 (1.5M) [application/octet-stream]\n",
            "Saving to: ‘personachat_all_sentences_test.jsonl’\n",
            "\n",
            "personachat_all_sen 100%[===================>]   1.49M  --.-KB/s    in 0.1s    \n",
            "\n",
            "2021-04-28 20:53:19 (14.2 MB/s) - ‘personachat_all_sentences_test.jsonl’ saved [1559597/1559597]\n",
            "\n",
            "--2021-04-28 20:53:19--  https://nyu.box.com/shared/static/9kb7l7ci30hb6uahhbssjlq0kctr5ii4.json\n",
            "Resolving nyu.box.com (nyu.box.com)... 107.152.24.197\n",
            "Connecting to nyu.box.com (nyu.box.com)|107.152.24.197|:443... connected.\n",
            "HTTP request sent, awaiting response... 301 Moved Permanently\n",
            "Location: /public/static/9kb7l7ci30hb6uahhbssjlq0kctr5ii4.json [following]\n",
            "--2021-04-28 20:53:19--  https://nyu.box.com/public/static/9kb7l7ci30hb6uahhbssjlq0kctr5ii4.json\n",
            "Reusing existing connection to nyu.box.com:443.\n",
            "HTTP request sent, awaiting response... 301 Moved Permanently\n",
            "Location: https://nyu.app.box.com/public/static/9kb7l7ci30hb6uahhbssjlq0kctr5ii4.json [following]\n",
            "--2021-04-28 20:53:19--  https://nyu.app.box.com/public/static/9kb7l7ci30hb6uahhbssjlq0kctr5ii4.json\n",
            "Resolving nyu.app.box.com (nyu.app.box.com)... 107.152.24.201\n",
            "Connecting to nyu.app.box.com (nyu.app.box.com)|107.152.24.201|:443... connected.\n",
            "HTTP request sent, awaiting response... 302 Found\n",
            "Location: https://public.boxcloud.com/d/1/b1!meETURvkdwZ_wktZYmH4YiDC_6JhQ-y-yEv8y75JoURl4UXh03i5Izeigl7z5g3CtQwHIazs78Fh3xN8WbLuNiOmunDnFKVAGYM3A6oZtQsJo0mJ0O8Mh_ia5s0i5VwkngvDN0i7VNouU8qzAY6u7tIrKdUciopx53DhZmWSOY3M8avowke-ixImjunF9fyBuS_dueSHEIc5Zap-bz_Yo0C67T_QikriEbKVXUuNAoRZJ88y69BbBDx39zLvT3z49-gUUwYMkEOzlFOk2TAgIYP5T7CfApYkWbwQHQGdtxXFisJWYvS5Rva9jUjI8JFne5MCtaOuMDTcahNSJ8pVgU7KP7dSajm3kP5GV2agB6f6q_GA9Eba_5TJgeDvdPHZAZqLLt_nkTwHXAeB1crzMoLWVqMbkp3PyHh9uBr1AzX9f03WNV1M_3tiBWaA0W90vcJ8_ClOjm2IBeddTGt6YgQTz-EPVRLNmeXv7SbSWCrb-KL-7S3kHRLKzIRNsMSPGhfIBr1l9Fb5Q3_Zw9rSNB0Z3hlZgjkN56QteHNgkLZokzNPFXQX9Cap4OJfob-uo_c8gsqji7-t_fx2wDodtV-ZRakbckKYKvQoe4zO8RKjc8tllQFqqNKJp0iZCFuD7EsDWXVsCU4t8hQCF2z76reHhhRDqY8wBQ61Y9AWvJUt1B4KSv2Yahr5OpCwION7cz9TL8xehC2E8qQY8Vv-WwRTyvEtQFFF2aTHMz3ukoO47U6onnk9IxMeEjJT_YYm9MG4kzwGP3N9PGLZYZYcnm9LrI_ehSHLp_EMPNMnxYIlweZYVnODzZGeI6i8eTywbpDbFgS1rZrkJHbkwRtkotE5g_skU03W8p8k89ELw_Lr8Tk-d23fVq9J7X1mGySQzKSZFAZA1Szdych3cUYxdldjksPMBjL2cKAlMclK55LA41nxKJU1ff0iQavdBGy5oBwxL6eBgcAi-l34khcV9EpE3LurVoR9fQMqbCgSIUF79YLR6H_0bk3hQSpRZj7FMLe9TCBeAy6ICz31AScEMz-PTbHtvA_-q3_UX3D9rJ5tdnsCojM4J-vmUvlHpiRmUaETMKPYtPXBzoxzVWkpNfK3NECxFQbl_QWAUNa10a8cdEjT1OSHhFV81SepHRr5SAZ7cPJnw3T4BqgHN4dSmP1jzWfg_YlGfNe5lgKpwxP9HRCm71GduXkebtFHDF2u3sQPlhbg8km8CZR_rHO7TZ4hV8oTUkOHGvJlFSiRHkcZDyPjvxoErbPrOdzGCuaDQRlzCujofXxpAyypXn6QPAdzW0BssRW-4SJyvdwxjiZxbFjAkbYz_DckUSMe1hvgQi78-kTFozS0OD8-ReUdJRWcy2FNohF1XBlT2fJMgKTfQWSuA4YIRFwmN9L_vWaCAEgxvPW_UqAfExY81fBr/download [following]\n",
            "--2021-04-28 20:53:20--  https://public.boxcloud.com/d/1/b1!meETURvkdwZ_wktZYmH4YiDC_6JhQ-y-yEv8y75JoURl4UXh03i5Izeigl7z5g3CtQwHIazs78Fh3xN8WbLuNiOmunDnFKVAGYM3A6oZtQsJo0mJ0O8Mh_ia5s0i5VwkngvDN0i7VNouU8qzAY6u7tIrKdUciopx53DhZmWSOY3M8avowke-ixImjunF9fyBuS_dueSHEIc5Zap-bz_Yo0C67T_QikriEbKVXUuNAoRZJ88y69BbBDx39zLvT3z49-gUUwYMkEOzlFOk2TAgIYP5T7CfApYkWbwQHQGdtxXFisJWYvS5Rva9jUjI8JFne5MCtaOuMDTcahNSJ8pVgU7KP7dSajm3kP5GV2agB6f6q_GA9Eba_5TJgeDvdPHZAZqLLt_nkTwHXAeB1crzMoLWVqMbkp3PyHh9uBr1AzX9f03WNV1M_3tiBWaA0W90vcJ8_ClOjm2IBeddTGt6YgQTz-EPVRLNmeXv7SbSWCrb-KL-7S3kHRLKzIRNsMSPGhfIBr1l9Fb5Q3_Zw9rSNB0Z3hlZgjkN56QteHNgkLZokzNPFXQX9Cap4OJfob-uo_c8gsqji7-t_fx2wDodtV-ZRakbckKYKvQoe4zO8RKjc8tllQFqqNKJp0iZCFuD7EsDWXVsCU4t8hQCF2z76reHhhRDqY8wBQ61Y9AWvJUt1B4KSv2Yahr5OpCwION7cz9TL8xehC2E8qQY8Vv-WwRTyvEtQFFF2aTHMz3ukoO47U6onnk9IxMeEjJT_YYm9MG4kzwGP3N9PGLZYZYcnm9LrI_ehSHLp_EMPNMnxYIlweZYVnODzZGeI6i8eTywbpDbFgS1rZrkJHbkwRtkotE5g_skU03W8p8k89ELw_Lr8Tk-d23fVq9J7X1mGySQzKSZFAZA1Szdych3cUYxdldjksPMBjL2cKAlMclK55LA41nxKJU1ff0iQavdBGy5oBwxL6eBgcAi-l34khcV9EpE3LurVoR9fQMqbCgSIUF79YLR6H_0bk3hQSpRZj7FMLe9TCBeAy6ICz31AScEMz-PTbHtvA_-q3_UX3D9rJ5tdnsCojM4J-vmUvlHpiRmUaETMKPYtPXBzoxzVWkpNfK3NECxFQbl_QWAUNa10a8cdEjT1OSHhFV81SepHRr5SAZ7cPJnw3T4BqgHN4dSmP1jzWfg_YlGfNe5lgKpwxP9HRCm71GduXkebtFHDF2u3sQPlhbg8km8CZR_rHO7TZ4hV8oTUkOHGvJlFSiRHkcZDyPjvxoErbPrOdzGCuaDQRlzCujofXxpAyypXn6QPAdzW0BssRW-4SJyvdwxjiZxbFjAkbYz_DckUSMe1hvgQi78-kTFozS0OD8-ReUdJRWcy2FNohF1XBlT2fJMgKTfQWSuA4YIRFwmN9L_vWaCAEgxvPW_UqAfExY81fBr/download\n",
            "Resolving public.boxcloud.com (public.boxcloud.com)... 107.152.24.200\n",
            "Connecting to public.boxcloud.com (public.boxcloud.com)|107.152.24.200|:443... connected.\n",
            "HTTP request sent, awaiting response... 200 OK\n",
            "Length: 12714601 (12M) [application/octet-stream]\n",
            "Saving to: ‘wikitext2-sentencized.json’\n",
            "\n",
            "wikitext2-sentenciz 100%[===================>]  12.12M  46.5MB/s    in 0.3s    \n",
            "\n",
            "2021-04-28 20:53:21 (46.5 MB/s) - ‘wikitext2-sentencized.json’ saved [12714601/12714601]\n",
            "\n",
            "--2021-04-28 20:53:21--  https://nyu.box.com/shared/static/looczvct7ssh30x0gwqmvencple8xok9.pt\n",
            "Resolving nyu.box.com (nyu.box.com)... 107.152.24.197\n",
            "Connecting to nyu.box.com (nyu.box.com)|107.152.24.197|:443... connected.\n",
            "HTTP request sent, awaiting response... 301 Moved Permanently\n",
            "Location: /public/static/looczvct7ssh30x0gwqmvencple8xok9.pt [following]\n",
            "--2021-04-28 20:53:21--  https://nyu.box.com/public/static/looczvct7ssh30x0gwqmvencple8xok9.pt\n",
            "Reusing existing connection to nyu.box.com:443.\n",
            "HTTP request sent, awaiting response... 301 Moved Permanently\n",
            "Location: https://nyu.app.box.com/public/static/looczvct7ssh30x0gwqmvencple8xok9.pt [following]\n",
            "--2021-04-28 20:53:21--  https://nyu.app.box.com/public/static/looczvct7ssh30x0gwqmvencple8xok9.pt\n",
            "Resolving nyu.app.box.com (nyu.app.box.com)... 107.152.24.201\n",
            "Connecting to nyu.app.box.com (nyu.app.box.com)|107.152.24.201|:443... connected.\n",
            "HTTP request sent, awaiting response... 302 Found\n",
            "Location: https://public.boxcloud.com/d/1/b1!r4G63RxSogk_6-3IMHzK1CzZhoSkLXVWoAkAAXxFfZEh4j8EB1BA8Lyq-zlTjZICxWiukPv7fpfH_JydqQwgp6s7HcPqZ0BQ4tgEPnhfOi8UOSQkU8IFIr69tlD7LDt1INcPSsEBQ-5M9H4pHAGP6AkI8DkDagcDpQAjrQxNm30I56Z6Agz9o0E87lF_c4fh8mLTZwbecnWYf1LdktkhIdYF6AdoRIPh0GFay9c1gsPl5o2o9cUM2qbr20ex4v4HL9d3LC5zexPPQGcFf04hmc580t8QrDjmZjn3adMQbcHUI7hCtlZ6xrXvu310qA1BE3E-RYMxkOzUXX-JsVIa0T7Zujk-YQ-w5_dmIuUsWI_zOUFncjAhpIK3xqVrsa5MQdsyggzxLkkMJG7Yrst7p2eakuVcCWDZlpLiPA3DFfRKqxn4O0EjtsMZ-kbOauTCDw34gLObyCddIZP58vBO0AFoRAhHi6WhzmukwiD-Eubodrp0y18lDgFfsRZv7ZW9zpwy6KF1rETREfXjZQSGYLAq-HsyeBw9xcWgdKSoomICsbf2qjKxYRkTNWZ8MaS8CDzvealyDUfpghc341pOundlWmHHXOhclqz_R2OfShhyQ-37m4FA1iCbHSXz7-3UvTl4TFZ4HSkkCuEmUr_jbIoQCQstji-Y9eD6laatBWccaOf33rmjE8WePdsnLBZ45Jyf4S7ZOsAcYl3SvXr5NOGTm67ApW4ry_Md_RrC14V4vxP5CvRHbjKYqBBnz7bjEQj59sqRSiq-TsCiBg-8xCbA3ra-x-6fEYZH6OU31nU-7RRnXoRFmgSdgCUh1rEiB-iSmASe7ll-GtRh1PjTVqLpuZbU1LqPCO2baESk7Q_yHGYgpQjbrEbEkDZFR-cl3SjJWwmEdKEDd320MGqpE9DOdZAhqnu9A2A3pmIqGgdlmeqaKcpv_2RgrccVKM6ihEZClmc8kVded6P5DIUZ1nPfpxbDxVgO-4oW_gbXtLbcqWuA2ePFR1337KovG0l9zs6eYsux2kB_kRjwUpUub7AEbpidFw7fXtMT0XEV0TIR6l8hPxhnUXKWnNpCYrAfzCfGoeEyOTwf3llkzG5q8XE2mBmJNmj4VL7TH2aIs1Z3d1UVojjuNebXQrEGl6QbMsln7Dafbs70wVqDbfpKqcwn0KQtMwUPBjVA7biOqO2B4uRDvXpc_DtpOEQW6sisGh2evKrgvIDvpnB9PxOZ8DRe5g36yt_m9z5Tl0pYbYe4c24FXedQVgJb0_5WbFZdCoYh3_zxctX4oKJR3KdeQ1oduLZodnivmjWIgJb0OwTrj-LB9pZim4ydV7UJHA6BqBiK9he8QEEbtXrcXC8mvsORyvLy_mrf9hfGXmphp52egHDllU9sN-ciRGLGKgDNr7GQW61oHw../download [following]\n",
            "--2021-04-28 20:53:22--  https://public.boxcloud.com/d/1/b1!r4G63RxSogk_6-3IMHzK1CzZhoSkLXVWoAkAAXxFfZEh4j8EB1BA8Lyq-zlTjZICxWiukPv7fpfH_JydqQwgp6s7HcPqZ0BQ4tgEPnhfOi8UOSQkU8IFIr69tlD7LDt1INcPSsEBQ-5M9H4pHAGP6AkI8DkDagcDpQAjrQxNm30I56Z6Agz9o0E87lF_c4fh8mLTZwbecnWYf1LdktkhIdYF6AdoRIPh0GFay9c1gsPl5o2o9cUM2qbr20ex4v4HL9d3LC5zexPPQGcFf04hmc580t8QrDjmZjn3adMQbcHUI7hCtlZ6xrXvu310qA1BE3E-RYMxkOzUXX-JsVIa0T7Zujk-YQ-w5_dmIuUsWI_zOUFncjAhpIK3xqVrsa5MQdsyggzxLkkMJG7Yrst7p2eakuVcCWDZlpLiPA3DFfRKqxn4O0EjtsMZ-kbOauTCDw34gLObyCddIZP58vBO0AFoRAhHi6WhzmukwiD-Eubodrp0y18lDgFfsRZv7ZW9zpwy6KF1rETREfXjZQSGYLAq-HsyeBw9xcWgdKSoomICsbf2qjKxYRkTNWZ8MaS8CDzvealyDUfpghc341pOundlWmHHXOhclqz_R2OfShhyQ-37m4FA1iCbHSXz7-3UvTl4TFZ4HSkkCuEmUr_jbIoQCQstji-Y9eD6laatBWccaOf33rmjE8WePdsnLBZ45Jyf4S7ZOsAcYl3SvXr5NOGTm67ApW4ry_Md_RrC14V4vxP5CvRHbjKYqBBnz7bjEQj59sqRSiq-TsCiBg-8xCbA3ra-x-6fEYZH6OU31nU-7RRnXoRFmgSdgCUh1rEiB-iSmASe7ll-GtRh1PjTVqLpuZbU1LqPCO2baESk7Q_yHGYgpQjbrEbEkDZFR-cl3SjJWwmEdKEDd320MGqpE9DOdZAhqnu9A2A3pmIqGgdlmeqaKcpv_2RgrccVKM6ihEZClmc8kVded6P5DIUZ1nPfpxbDxVgO-4oW_gbXtLbcqWuA2ePFR1337KovG0l9zs6eYsux2kB_kRjwUpUub7AEbpidFw7fXtMT0XEV0TIR6l8hPxhnUXKWnNpCYrAfzCfGoeEyOTwf3llkzG5q8XE2mBmJNmj4VL7TH2aIs1Z3d1UVojjuNebXQrEGl6QbMsln7Dafbs70wVqDbfpKqcwn0KQtMwUPBjVA7biOqO2B4uRDvXpc_DtpOEQW6sisGh2evKrgvIDvpnB9PxOZ8DRe5g36yt_m9z5Tl0pYbYe4c24FXedQVgJb0_5WbFZdCoYh3_zxctX4oKJR3KdeQ1oduLZodnivmjWIgJb0OwTrj-LB9pZim4ydV7UJHA6BqBiK9he8QEEbtXrcXC8mvsORyvLy_mrf9hfGXmphp52egHDllU9sN-ciRGLGKgDNr7GQW61oHw../download\n",
            "Resolving public.boxcloud.com (public.boxcloud.com)... 107.152.24.200\n",
            "Connecting to public.boxcloud.com (public.boxcloud.com)|107.152.24.200|:443... connected.\n",
            "HTTP request sent, awaiting response... 200 OK\n",
            "Length: 63894321 (61M) [application/octet-stream]\n",
            "Saving to: ‘personachat_ffnn_lm.pt’\n",
            "\n",
            "personachat_ffnn_lm 100%[===================>]  60.93M  19.2MB/s    in 3.2s    \n",
            "\n",
            "2021-04-28 20:53:26 (19.2 MB/s) - ‘personachat_ffnn_lm.pt’ saved [63894321/63894321]\n",
            "\n",
            "--2021-04-28 20:53:26--  https://nyu.box.com/shared/static/3jl9erctnvbefnczgmetkdil0xwpcxzb.pt\n",
            "Resolving nyu.box.com (nyu.box.com)... 107.152.24.197\n",
            "Connecting to nyu.box.com (nyu.box.com)|107.152.24.197|:443... connected.\n",
            "HTTP request sent, awaiting response... 301 Moved Permanently\n",
            "Location: /public/static/3jl9erctnvbefnczgmetkdil0xwpcxzb.pt [following]\n",
            "--2021-04-28 20:53:27--  https://nyu.box.com/public/static/3jl9erctnvbefnczgmetkdil0xwpcxzb.pt\n",
            "Reusing existing connection to nyu.box.com:443.\n",
            "HTTP request sent, awaiting response... 301 Moved Permanently\n",
            "Location: https://nyu.app.box.com/public/static/3jl9erctnvbefnczgmetkdil0xwpcxzb.pt [following]\n",
            "--2021-04-28 20:53:27--  https://nyu.app.box.com/public/static/3jl9erctnvbefnczgmetkdil0xwpcxzb.pt\n",
            "Resolving nyu.app.box.com (nyu.app.box.com)... 107.152.24.201\n",
            "Connecting to nyu.app.box.com (nyu.app.box.com)|107.152.24.201|:443... connected.\n",
            "HTTP request sent, awaiting response... 302 Found\n",
            "Location: https://public.boxcloud.com/d/1/b1!4N6gsHbmMole620qdUHQ9_yysTnjC0tI0XlpAyp2A6USQZOxT9uJKv2Milqfpi1e-aczSBzcmz1QFHXg8RkqKbtdCMQNhfleLC4aiS5LmnMZk8I-bD5t5P2PJETC4ZMCFt7S4sSbhBWxVLNFNhCFFQ5zU2wgBpsu2Wk_D1hk4lZjRigj8hFvEaWXklmlQ5O7UzoJHtnaK0Gd-typNBqnqnE1_NvGbrwZeRGpmEKtphaAwQyYK-mbCSxgVZ3h4gxJMGXo69y4hCfkmKJFy5-0BnmY4YuETiBzWInXENFLtASz4Is_LKeOi66i6ALQTLFmrFJgBYmQamy52srZN9JYZRAeHsVFciv1C-maz_noFDQMZ6vceo_oPYKrlZaJDZkjiDoVR0OmQqhSceoN_slInseEv2k8i_i8cdtjzHsG9Saf_wD4zhD6_qTTpxyHDI5UU21lRmh7opR5eX_Nb6u1D1X4JgjwZ4qDBbM7JJA24_491ee1idBfvi3vt5q0BODd58lBd0jgIWw_fs-FVUlhuDCunty21wPcjlw15slCstkIdJCbxoTejLIM1Xo8sOCeyfkWRDqLXH0B6bIK33Ch-9MixPXhzLl6MowhEFHOfO7CEWnrRC1flRlviz2iWJC4ETW5mSpbI1hRQjTBUAN6runuSiOwYCt3xWzyO4fHJFILFF8Zo31Tq_SyR0-vGlEq1AkG64EpYG_8VCkDWYzQvnc5dKHf2K3xQGDoyLfeH7K3cAFK3ivJFvVtiKRKH8KPP85KYy7GCsejP_NlECAbGMZBCqDW4tYrn2NAkmxeR_SVTmXrwWUbDkY6GxvoeD37ivnfdTX-bvQunX6NDCaujGDLfLnVAUntpoesUE-18bzYTLwBBtvUt_xj-4307PTOEG1Vh5DLKbssFnmyUm5VGh3-xekoLPL1N1YfDCUv4pZ7LkI0e1Pno9kdZejXELOY5DZQIHOOcQ2TCwuXakufZey1gz0j-Rzm8Ze21Rnmzm4Ojtjt1K-P1ljyWRRkXW55k5HEDZ_2mllNQfwNHCjsgWOoUfsNRR1b-S-UWMusBWGTtYbW9yZh0QlSOM5f2T5pkCyuWmFf6LNQzmUucuWuAjTtaHCgEheNYdCxXyExbppxPNKljgkfA9hJMqSTaqQyajdR7hcSRuaUuq3nQh1lpHEyEfMaj7l4iXcwtO4aix2zOqhIUiscb7yw49M31dTfEzOkXCsJ2-szaMpVQ55AVy3ajBCLLGGBAa52ERwApgRgq3MNNEZJZ7anCThQoEkKruPzEebP4NtObwQIG4KvxZN4rHnlcWbGkYdr6VuOhMO0rV5ONyi8jS6rdqqW-lM37_uhxq1ctHgGy7fPP4xvYEpfrs3-qWOqtA-6hz1eiF3yCYGYFfhwd64ow31gd3FzjAGXx0Za/download [following]\n",
            "--2021-04-28 20:53:27--  https://public.boxcloud.com/d/1/b1!4N6gsHbmMole620qdUHQ9_yysTnjC0tI0XlpAyp2A6USQZOxT9uJKv2Milqfpi1e-aczSBzcmz1QFHXg8RkqKbtdCMQNhfleLC4aiS5LmnMZk8I-bD5t5P2PJETC4ZMCFt7S4sSbhBWxVLNFNhCFFQ5zU2wgBpsu2Wk_D1hk4lZjRigj8hFvEaWXklmlQ5O7UzoJHtnaK0Gd-typNBqnqnE1_NvGbrwZeRGpmEKtphaAwQyYK-mbCSxgVZ3h4gxJMGXo69y4hCfkmKJFy5-0BnmY4YuETiBzWInXENFLtASz4Is_LKeOi66i6ALQTLFmrFJgBYmQamy52srZN9JYZRAeHsVFciv1C-maz_noFDQMZ6vceo_oPYKrlZaJDZkjiDoVR0OmQqhSceoN_slInseEv2k8i_i8cdtjzHsG9Saf_wD4zhD6_qTTpxyHDI5UU21lRmh7opR5eX_Nb6u1D1X4JgjwZ4qDBbM7JJA24_491ee1idBfvi3vt5q0BODd58lBd0jgIWw_fs-FVUlhuDCunty21wPcjlw15slCstkIdJCbxoTejLIM1Xo8sOCeyfkWRDqLXH0B6bIK33Ch-9MixPXhzLl6MowhEFHOfO7CEWnrRC1flRlviz2iWJC4ETW5mSpbI1hRQjTBUAN6runuSiOwYCt3xWzyO4fHJFILFF8Zo31Tq_SyR0-vGlEq1AkG64EpYG_8VCkDWYzQvnc5dKHf2K3xQGDoyLfeH7K3cAFK3ivJFvVtiKRKH8KPP85KYy7GCsejP_NlECAbGMZBCqDW4tYrn2NAkmxeR_SVTmXrwWUbDkY6GxvoeD37ivnfdTX-bvQunX6NDCaujGDLfLnVAUntpoesUE-18bzYTLwBBtvUt_xj-4307PTOEG1Vh5DLKbssFnmyUm5VGh3-xekoLPL1N1YfDCUv4pZ7LkI0e1Pno9kdZejXELOY5DZQIHOOcQ2TCwuXakufZey1gz0j-Rzm8Ze21Rnmzm4Ojtjt1K-P1ljyWRRkXW55k5HEDZ_2mllNQfwNHCjsgWOoUfsNRR1b-S-UWMusBWGTtYbW9yZh0QlSOM5f2T5pkCyuWmFf6LNQzmUucuWuAjTtaHCgEheNYdCxXyExbppxPNKljgkfA9hJMqSTaqQyajdR7hcSRuaUuq3nQh1lpHEyEfMaj7l4iXcwtO4aix2zOqhIUiscb7yw49M31dTfEzOkXCsJ2-szaMpVQ55AVy3ajBCLLGGBAa52ERwApgRgq3MNNEZJZ7anCThQoEkKruPzEebP4NtObwQIG4KvxZN4rHnlcWbGkYdr6VuOhMO0rV5ONyi8jS6rdqqW-lM37_uhxq1ctHgGy7fPP4xvYEpfrs3-qWOqtA-6hz1eiF3yCYGYFfhwd64ow31gd3FzjAGXx0Za/download\n",
            "Resolving public.boxcloud.com (public.boxcloud.com)... 107.152.24.200\n",
            "Connecting to public.boxcloud.com (public.boxcloud.com)|107.152.24.200|:443... connected.\n",
            "HTTP request sent, awaiting response... 200 OK\n",
            "Length: 67576905 (64M) [application/octet-stream]\n",
            "Saving to: ‘personachat_rnn_lm.pt’\n",
            "\n",
            "personachat_rnn_lm. 100%[===================>]  64.45M  19.6MB/s    in 3.3s    \n",
            "\n",
            "2021-04-28 20:53:32 (19.6 MB/s) - ‘personachat_rnn_lm.pt’ saved [67576905/67576905]\n",
            "\n",
            "--2021-04-28 20:53:32--  https://gist.githubusercontent.com/ethanjperez/304c855ffd0d6da4f8d6ce6a31ff25d2/raw/31cc574c2bc0fe52a9053793559142a938cb4e98/data.py\n",
            "Resolving gist.githubusercontent.com (gist.githubusercontent.com)... 185.199.108.133, 185.199.109.133, 185.199.110.133, ...\n",
            "Connecting to gist.githubusercontent.com (gist.githubusercontent.com)|185.199.108.133|:443... connected.\n",
            "HTTP request sent, awaiting response... 200 OK\n",
            "Length: 4921 (4.8K) [text/plain]\n",
            "Saving to: ‘data.py’\n",
            "\n",
            "data.py             100%[===================>]   4.81K  --.-KB/s    in 0s      \n",
            "\n",
            "2021-04-28 20:53:32 (39.8 MB/s) - ‘data.py’ saved [4921/4921]\n",
            "\n"
          ],
          "name": "stdout"
        }
      ]
    },
    {
      "cell_type": "markdown",
      "metadata": {
        "id": "pLQGWlqkbd9o"
      },
      "source": [
        "### Preparation for Colab: Pytorch version\n",
        "Make sure you're running a GPU runtime; if not, select \"GPU\" as the hardware accelerator in Runtime > Change Runtime Type in the menu. The next cells will print the CUDA version of the runtime if it has a GPU, and install PyTorch 1.7.1."
      ]
    },
    {
      "cell_type": "code",
      "metadata": {
        "id": "Q6fA99WJbQks",
        "colab": {
          "base_uri": "https://localhost:8080/"
        },
        "outputId": "11da13b3-c69e-4496-fce3-215007e5a1c6"
      },
      "source": [
        "import subprocess\n",
        "\n",
        "CUDA_version = [s for s in subprocess.check_output([\"nvcc\", \"--version\"]).decode(\"UTF-8\").split(\", \") if s.startswith(\"release\")][0].split(\" \")[-1]\n",
        "print(\"CUDA version:\", CUDA_version)\n",
        "\n",
        "if CUDA_version == \"10.0\":\n",
        "    torch_version_suffix = \"+cu100\"\n",
        "elif CUDA_version == \"10.1\":\n",
        "    torch_version_suffix = \"+cu101\"\n",
        "elif CUDA_version == \"11.2\":\n",
        "    torch_version_suffix = \"+cu112\"\n",
        "elif CUDA_version == \"10.2\":\n",
        "    torch_version_suffix = \"\"\n",
        "else:\n",
        "    torch_version_suffix = \"+cu110\"\n",
        "\n",
        "! pip install torch==1.7.1{torch_version_suffix} torchvision==0.8.2{torch_version_suffix} -f https://download.pytorch.org/whl/torch_stable.html ftfy regex\n",
        "\n",
        "import torch"
      ],
      "execution_count": null,
      "outputs": [
        {
          "output_type": "stream",
          "text": [
            "CUDA version: 11.0\n",
            "Looking in links: https://download.pytorch.org/whl/torch_stable.html\n",
            "Collecting torch==1.7.1+cu110\n",
            "\u001b[?25l  Downloading https://download.pytorch.org/whl/cu110/torch-1.7.1%2Bcu110-cp37-cp37m-linux_x86_64.whl (1156.8MB)\n",
            "\u001b[K     |███████████████████████         | 834.1MB 1.2MB/s eta 0:04:20tcmalloc: large alloc 1147494400 bytes == 0x55ad7607a000 @  0x7f0437113615 0x55ad3c98506c 0x55ad3ca64eba 0x55ad3c987e8d 0x55ad3ca7999d 0x55ad3c9fbfe9 0x55ad3c9f6b0e 0x55ad3c98977a 0x55ad3c9fbe50 0x55ad3c9f6b0e 0x55ad3c98977a 0x55ad3c9f886a 0x55ad3ca7a7c6 0x55ad3c9f7ee2 0x55ad3ca7a7c6 0x55ad3c9f7ee2 0x55ad3ca7a7c6 0x55ad3c9f7ee2 0x55ad3ca7a7c6 0x55ad3cafc431 0x55ad3ca5d049 0x55ad3c9c7c84 0x55ad3c9888e9 0x55ad3c9fcade 0x55ad3c98969a 0x55ad3c9f7a45 0x55ad3c9f6e0d 0x55ad3c98977a 0x55ad3c9f7a45 0x55ad3c98969a 0x55ad3c9f7a45\n",
            "\u001b[K     |█████████████████████████████▏  | 1055.7MB 1.2MB/s eta 0:01:27tcmalloc: large alloc 1434370048 bytes == 0x55adba6d0000 @  0x7f0437113615 0x55ad3c98506c 0x55ad3ca64eba 0x55ad3c987e8d 0x55ad3ca7999d 0x55ad3c9fbfe9 0x55ad3c9f6b0e 0x55ad3c98977a 0x55ad3c9fbe50 0x55ad3c9f6b0e 0x55ad3c98977a 0x55ad3c9f886a 0x55ad3ca7a7c6 0x55ad3c9f7ee2 0x55ad3ca7a7c6 0x55ad3c9f7ee2 0x55ad3ca7a7c6 0x55ad3c9f7ee2 0x55ad3ca7a7c6 0x55ad3cafc431 0x55ad3ca5d049 0x55ad3c9c7c84 0x55ad3c9888e9 0x55ad3c9fcade 0x55ad3c98969a 0x55ad3c9f7a45 0x55ad3c9f6e0d 0x55ad3c98977a 0x55ad3c9f7a45 0x55ad3c98969a 0x55ad3c9f7a45\n",
            "\u001b[K     |████████████████████████████████| 1156.7MB 1.2MB/s eta 0:00:01tcmalloc: large alloc 1445945344 bytes == 0x55ae0febc000 @  0x7f0437113615 0x55ad3c98506c 0x55ad3ca64eba 0x55ad3c987e8d 0x55ad3ca7999d 0x55ad3c9fbfe9 0x55ad3c9f6b0e 0x55ad3c98977a 0x55ad3c9f7c9e 0x55ad3c9f6b0e 0x55ad3c98977a 0x55ad3c9f7c9e 0x55ad3c9f6b0e 0x55ad3c98977a 0x55ad3c9f7c9e 0x55ad3c9f6b0e 0x55ad3c98977a 0x55ad3c9f7c9e 0x55ad3c9f6b0e 0x55ad3c98977a 0x55ad3c9f7c9e 0x55ad3c98969a 0x55ad3c9f7c9e 0x55ad3c9f6b0e 0x55ad3c98977a 0x55ad3c9f886a 0x55ad3c9f6b0e 0x55ad3c98977a 0x55ad3c9f886a 0x55ad3c9f6b0e 0x55ad3c989e11\n",
            "\u001b[K     |████████████████████████████████| 1156.8MB 16kB/s \n",
            "\u001b[?25hCollecting torchvision==0.8.2+cu110\n",
            "\u001b[?25l  Downloading https://download.pytorch.org/whl/cu110/torchvision-0.8.2%2Bcu110-cp37-cp37m-linux_x86_64.whl (12.9MB)\n",
            "\u001b[K     |████████████████████████████████| 12.9MB 36.0MB/s \n",
            "\u001b[?25hCollecting ftfy\n",
            "\u001b[?25l  Downloading https://files.pythonhosted.org/packages/ce/b5/5da463f9c7823e0e575e9908d004e2af4b36efa8d02d3d6dad57094fcb11/ftfy-6.0.1.tar.gz (63kB)\n",
            "\u001b[K     |████████████████████████████████| 71kB 5.4MB/s \n",
            "\u001b[?25hRequirement already satisfied: regex in /usr/local/lib/python3.7/dist-packages (2019.12.20)\n",
            "Requirement already satisfied: typing-extensions in /usr/local/lib/python3.7/dist-packages (from torch==1.7.1+cu110) (3.7.4.3)\n",
            "Requirement already satisfied: numpy in /usr/local/lib/python3.7/dist-packages (from torch==1.7.1+cu110) (1.19.5)\n",
            "Requirement already satisfied: pillow>=4.1.1 in /usr/local/lib/python3.7/dist-packages (from torchvision==0.8.2+cu110) (7.1.2)\n",
            "Requirement already satisfied: wcwidth in /usr/local/lib/python3.7/dist-packages (from ftfy) (0.2.5)\n",
            "Building wheels for collected packages: ftfy\n",
            "  Building wheel for ftfy (setup.py) ... \u001b[?25l\u001b[?25hdone\n",
            "  Created wheel for ftfy: filename=ftfy-6.0.1-cp37-none-any.whl size=41573 sha256=e243f475e7b53b225bc9e3964b2cfbc227ce50431131cf17862581e18a769249\n",
            "  Stored in directory: /root/.cache/pip/wheels/ae/73/c7/9056e14b04919e5c262fe80b54133b1a88d73683d05d7ac65c\n",
            "Successfully built ftfy\n",
            "\u001b[31mERROR: torchtext 0.9.1 has requirement torch==1.8.1, but you'll have torch 1.7.1+cu110 which is incompatible.\u001b[0m\n",
            "Installing collected packages: torch, torchvision, ftfy\n",
            "  Found existing installation: torch 1.8.1+cu101\n",
            "    Uninstalling torch-1.8.1+cu101:\n",
            "      Successfully uninstalled torch-1.8.1+cu101\n",
            "  Found existing installation: torchvision 0.9.1+cu101\n",
            "    Uninstalling torchvision-0.9.1+cu101:\n",
            "      Successfully uninstalled torchvision-0.9.1+cu101\n",
            "Successfully installed ftfy-6.0.1 torch-1.7.1+cu110 torchvision-0.8.2+cu110\n"
          ],
          "name": "stdout"
        }
      ]
    },
    {
      "cell_type": "markdown",
      "metadata": {
        "id": "G0PkAzAkKHZw"
      },
      "source": [
        "## N-gram modeling as classification\n",
        "\n",
        "In the previous n-gram language models lab, the probability of a word given a history ('prefix') was computed using n-gram **counts**.\n",
        "\n",
        "In this lab, our goal will be the same: modeling the probability of variable length sequences, $$p(x_1,\\ldots,x_T)=\\prod_{t=1}^T p(x_t|x_{<t}),$$\n",
        "\n",
        "by assuming that each word $x_t$ only depends on the preceding $n-1$ words, $$p(x_1,\\ldots,x_T)=\\prod_{t=1}^T p(x_t|x_{t-n+1},\\ldots,x_{t-1}).$$\n",
        "\n",
        "\n",
        "However, _instead of counts_, we will now use a **neural network** to **classify** each history, where each class is the next word.\n",
        "\n",
        "<img src=\"https://drive.google.com/uc?export=view&id=1NGMYOZTSe3dbmW9uZjwSouGmZqtUfC3q\" alt=\"Drawing\" style=\"width: 35%;\"/>\n",
        "\n",
        "\n",
        "\n",
        "[Diagram: modified from the [NLP Lecture Note](https://github.com/nyu-dl/NLP_DL_Lecture_Note/blob/master/lecture_note.pdf) by Kyunghyun Cho]"
      ]
    },
    {
      "cell_type": "markdown",
      "metadata": {
        "id": "_rHGuy-zbj-R"
      },
      "source": [
        "## Modeling chat utterances\n",
        "\n",
        "We will build a **feed-forward neural n-gram model** to model chat utterances.\n",
        "\n",
        "### 1. Prepare the data\n",
        "\n",
        "To load and preprocess the data, we'll use utility functions from `data.py`."
      ]
    },
    {
      "cell_type": "code",
      "metadata": {
        "id": "TsLd-pAlbj-Y"
      },
      "source": [
        "import data as data_utils"
      ],
      "execution_count": null,
      "outputs": []
    },
    {
      "cell_type": "code",
      "metadata": {
        "colab": {
          "base_uri": "https://localhost:8080/"
        },
        "id": "UYIBNnOwO9wa",
        "outputId": "e53410ca-018f-4213-96c7-d691e734f654"
      },
      "source": [
        "datasets = data_utils.load_personachat('./')\n",
        "dictionary = data_utils.Dictionary(datasets, include_valid=True)"
      ],
      "execution_count": null,
      "outputs": [
        {
          "output_type": "stream",
          "text": [
            "100%|██████████| 133176/133176 [00:22<00:00, 6018.53it/s]\n",
            "100%|██████████| 16181/16181 [00:03<00:00, 4529.53it/s]\n"
          ],
          "name": "stderr"
        }
      ]
    },
    {
      "cell_type": "markdown",
      "metadata": {
        "id": "CnHbAx_E9rKU"
      },
      "source": [
        "Let's look at an example from the dataset (note that in addition to `train` we also have `valid`, `test` splits):"
      ]
    },
    {
      "cell_type": "code",
      "metadata": {
        "colab": {
          "base_uri": "https://localhost:8080/"
        },
        "id": "pADyq6EL9rKU",
        "outputId": "71e16285-f9ad-4f99-cf47-9aca3b5fecb4"
      },
      "source": [
        "index = 0\n",
        "split = 'train'\n",
        "encoded = dictionary.encode_token_seq(datasets[split][index])\n",
        "decoded = dictionary.decode_idx_seq(encoded)\n",
        "\n",
        "print(\"Dataset size %d (train), %d (valid), %d (test).\\n\" %\n",
        "     (len(datasets['train']), \n",
        "      len(datasets['valid']), \n",
        "      len(datasets['test'])))\n",
        "print(' '.join(datasets[split][index]))\n",
        "print(f'\\n word indices - {encoded}')\n",
        "print(f'\\n words - {decoded}')"
      ],
      "execution_count": null,
      "outputs": [
        {
          "output_type": "stream",
          "text": [
            "Dataset size 133176 (train), 16181 (valid), 15608 (test).\n",
            "\n",
            "i am doing great except for the allergies .\n",
            "\n",
            " word indices - [4, 5, 6, 7, 8, 9, 10, 11, 12]\n",
            "\n",
            " words - ['i', 'am', 'doing', 'great', 'except', 'for', 'the', 'allergies', '.']\n"
          ],
          "name": "stdout"
        }
      ]
    },
    {
      "cell_type": "markdown",
      "metadata": {
        "id": "Jzu-bUEe9rKU"
      },
      "source": [
        "Now we add `<bos>`, `<eos>`, and turn each **sequence** into **n-grams**:"
      ]
    },
    {
      "cell_type": "code",
      "metadata": {
        "colab": {
          "base_uri": "https://localhost:8080/"
        },
        "id": "l5dirZUX9rKV",
        "outputId": "d2feb15b-f7a0-495d-9dbc-7953e8a4c491"
      },
      "source": [
        "ngram_order = 5\n",
        "tokenized_datasets = data_utils.tokenize_dataset(\n",
        "    datasets, dictionary, ngram_order\n",
        ")\n",
        "ngram_datasets = data_utils.slice_into_ngrams(\n",
        "    tokenized_datasets, ngram_order\n",
        ")\n",
        "\n",
        "for i in range(10):\n",
        "    decoded = dictionary.decode_idx_seq(ngram_datasets[split][index+i])\n",
        "    print(f'\\n {i} - {decoded}')"
      ],
      "execution_count": null,
      "outputs": [
        {
          "output_type": "stream",
          "text": [
            "\n",
            " 0 - ['<bos>', '<bos>', '<bos>', '<bos>', 'i']\n",
            "\n",
            " 1 - ['<bos>', '<bos>', '<bos>', 'i', 'am']\n",
            "\n",
            " 2 - ['<bos>', '<bos>', 'i', 'am', 'doing']\n",
            "\n",
            " 3 - ['<bos>', 'i', 'am', 'doing', 'great']\n",
            "\n",
            " 4 - ['i', 'am', 'doing', 'great', 'except']\n",
            "\n",
            " 5 - ['am', 'doing', 'great', 'except', 'for']\n",
            "\n",
            " 6 - ['doing', 'great', 'except', 'for', 'the']\n",
            "\n",
            " 7 - ['great', 'except', 'for', 'the', 'allergies']\n",
            "\n",
            " 8 - ['except', 'for', 'the', 'allergies', '.']\n",
            "\n",
            " 9 - ['for', 'the', 'allergies', '.', '<eos>']\n"
          ],
          "name": "stdout"
        }
      ]
    },
    {
      "cell_type": "markdown",
      "metadata": {
        "id": "ol7Nacu19rKV"
      },
      "source": [
        "Finally, we create a **Pytorch** `Dataset` and `DataLoader` that can be used for training a neural network."
      ]
    },
    {
      "cell_type": "code",
      "metadata": {
        "id": "401zpVGvNcmR"
      },
      "source": [
        "from torch.utils.data import DataLoader\n",
        "\n",
        "datasets = {}\n",
        "dataloaders = {}\n",
        "for split, dataset in ngram_datasets.items():\n",
        "    dataset_ = data_utils.NgramDataset(dataset)\n",
        "    datasets[split] = dataset_\n",
        "    dataloaders[split] = DataLoader(\n",
        "        dataset_, \n",
        "        batch_size=2048, \n",
        "        shuffle=(split == 'train'), \n",
        "        collate_fn=data_utils.batchify\n",
        "    )"
      ],
      "execution_count": null,
      "outputs": []
    },
    {
      "cell_type": "markdown",
      "metadata": {
        "id": "iwghE1Nr9rKV"
      },
      "source": [
        "### 2. Defining the model\n",
        "\n",
        "\n",
        "#### How do we represent the input $x_t$? \n",
        "\n",
        "Each $x_t$ is an **integer** (token id), and we transform it into a **vector** $f_{\\text{embed}}(x_t)\\in\\mathbb{R}^d$ using an `Embedding` layer."
      ]
    },
    {
      "cell_type": "markdown",
      "metadata": {
        "id": "jlUBUtnhbj-f"
      },
      "source": [
        "An embedding layer serves as a differentiable look-up table. Given an integer token id, it returns a vector representation which we call an **embedding**."
      ]
    },
    {
      "cell_type": "code",
      "metadata": {
        "id": "F7wBvXaYbj-g"
      },
      "source": [
        "import torch\n",
        "from torch.nn import Embedding"
      ],
      "execution_count": null,
      "outputs": []
    },
    {
      "cell_type": "code",
      "metadata": {
        "id": "hPUY40tXbj-m"
      },
      "source": [
        "lookup = Embedding(\n",
        "    num_embeddings=len(dictionary), \n",
        "    embedding_dim=16, \n",
        "    padding_idx=dictionary.get_id('<pad>')\n",
        ")"
      ],
      "execution_count": null,
      "outputs": []
    },
    {
      "cell_type": "code",
      "metadata": {
        "colab": {
          "base_uri": "https://localhost:8080/"
        },
        "id": "eSDJy98Jbj-o",
        "outputId": "6b931d24-ee64-42a6-953a-83b702cbb3fe"
      },
      "source": [
        "lookup.weight.size()"
      ],
      "execution_count": null,
      "outputs": [
        {
          "output_type": "execute_result",
          "data": {
            "text/plain": [
              "torch.Size([20089, 16])"
            ]
          },
          "metadata": {
            "tags": []
          },
          "execution_count": 11
        }
      ]
    },
    {
      "cell_type": "code",
      "metadata": {
        "colab": {
          "base_uri": "https://localhost:8080/"
        },
        "id": "3WMCuASKbj-s",
        "outputId": "2279dc34-656d-47a6-c388-ff034243e77d"
      },
      "source": [
        "input_ = dictionary.encode_token_seq(['hello', 'world'])\n",
        "print(f'token ids: {[input_]}')\n",
        "\n",
        "input_embedded = lookup(torch.tensor([input_], dtype=torch.long))\n",
        "print(f'tokens embedding size: {input_embedded.size()}')\n",
        "\n",
        "print(\"embedding for 'hello' (179):\")\n",
        "input_embedded[0, 0].data"
      ],
      "execution_count": null,
      "outputs": [
        {
          "output_type": "stream",
          "text": [
            "token ids: [[179, 373]]\n",
            "tokens embedding size: torch.Size([1, 2, 16])\n",
            "embedding for 'hello' (179):\n"
          ],
          "name": "stdout"
        },
        {
          "output_type": "execute_result",
          "data": {
            "text/plain": [
              "tensor([-0.6316, -0.2696, -1.0156, -1.3326,  0.2207,  0.9773, -0.0524, -0.8193,\n",
              "         0.4009, -1.4913, -0.5250,  0.0119, -1.5037,  2.1157,  0.0768,  1.3546])"
            ]
          },
          "metadata": {
            "tags": []
          },
          "execution_count": 12
        }
      ]
    },
    {
      "cell_type": "markdown",
      "metadata": {
        "id": "yDv5IJI19rKX"
      },
      "source": [
        "### Defining the neural network\n",
        "\n",
        "There are three components:\n",
        "1. `Embedding` $$\\large f_{embed}:\\text{vocab}\\rightarrow \\mathbb{R}^d$$\n",
        "2. Hidden layer $$\\large f_{hidden}: \\mathbb{R}^{nd}\\rightarrow \\mathbb{R}^h$$\n",
        "3. Projection $$\\large f_{project}: \\mathbb{R}^{h}\\rightarrow \\mathbb{R}^{|vocab|}$$\n",
        "\n",
        "The conditional distribution is then: $$\\large p(x_t|x_{t-1},\\ldots,x_{t-n-1})=\\text{softmax}(f_{project}(f_{hidden}(f_{embed}(x_{t-1},\\ldots,x_{t-n-1}))).$$\n",
        "\n",
        "\n",
        "We implement the hidden layer and projection with Pytorch `nn.Linear` layers:"
      ]
    },
    {
      "cell_type": "code",
      "metadata": {
        "id": "dvlP70FiOrJ3"
      },
      "source": [
        "import torch\n",
        "import torch.nn as nn\n",
        "\n",
        "class NeuralNgramLM(nn.Module):\n",
        "    def __init__(self, options):\n",
        "        super().__init__()\n",
        "        self.lookup = nn.Embedding(\n",
        "            num_embeddings=options['num_embeddings'], \n",
        "            embedding_dim=options['embedding_dim']\n",
        "        )\n",
        "        self.hidden_layer = nn.Linear(\n",
        "            options['input_size'], \n",
        "            options['hidden_size'], \n",
        "            bias=True\n",
        "        )\n",
        "        self.projection = nn.Linear(\n",
        "            options['hidden_size'], \n",
        "            options['num_embeddings']\n",
        "        )\n",
        "\n",
        "    def forward(self, inp):\n",
        "        embedded = self.lookup(inp)\n",
        "        embedded_timeflat = embedded.view(embedded.size(0), -1)\n",
        "        hidden_out = self.hidden_layer(embedded_timeflat)\n",
        "        hidden_out = torch.tanh(hidden_out)\n",
        "        logits = self.projection(hidden_out)\n",
        "        return logits"
      ],
      "execution_count": null,
      "outputs": []
    },
    {
      "cell_type": "markdown",
      "metadata": {
        "id": "ZDWbpPFR9rKX"
      },
      "source": [
        "### 3. Train the model\n",
        "\n",
        "#### Initialize the model, criterion (loss), and optimizer"
      ]
    },
    {
      "cell_type": "code",
      "metadata": {
        "id": "VfjWvd6jTDjh"
      },
      "source": [
        "import os\n",
        "import torch\n",
        "import torch.nn as nn\n",
        "import torch.optim as optim\n",
        "\n",
        "load_pretrained = False # Set to true to skip training / save time\n",
        "\n",
        "num_gpus = torch.cuda.device_count()\n",
        "if num_gpus > 0:\n",
        "    current_device = 'cuda'\n",
        "else:\n",
        "    current_device = 'cpu'\n",
        "\n",
        "if load_pretrained:\n",
        "    if not os.path.exists('personachat_ffnn_lm.pt'):\n",
        "        raise EOFError('No model downloaded!')\n",
        "    model_dict = torch.load(\n",
        "        'personachat_ffnn_lm.pt',\n",
        "        map_location=torch.device(current_device)\n",
        "    )\n",
        "    \n",
        "    options = model_dict['options']\n",
        "    model = NeuralNgramLM(options).to(current_device)\n",
        "    model.load_state_dict(\n",
        "        model_dict['model_dict']\n",
        "    )\n",
        "    \n",
        "else:\n",
        "    embedding_size = 256\n",
        "    ngram_order = 4\n",
        "    input_size = embedding_size * ngram_order\n",
        "    hidden_size = 512\n",
        "\n",
        "    options = {\n",
        "        'num_embeddings': len(dictionary),\n",
        "        'embedding_dim': embedding_size,\n",
        "        'input_size': input_size,\n",
        "        'hidden_size': hidden_size,\n",
        "    }\n",
        "    model = NeuralNgramLM(options).to(current_device)\n",
        "\n",
        "criterion = nn.CrossEntropyLoss(\n",
        "    ignore_index=dictionary.get_id('<pad>'), \n",
        "    reduction='sum'\n",
        ")\n",
        "\n",
        "model_parameters = [p for p in model.parameters() if p.requires_grad]\n",
        "optimizer = optim.SGD(model_parameters, lr=0.01, momentum=0.99)"
      ],
      "execution_count": null,
      "outputs": []
    },
    {
      "cell_type": "markdown",
      "metadata": {
        "id": "F4n64zxs9rKY"
      },
      "source": [
        "#### Training Loop"
      ]
    },
    {
      "cell_type": "code",
      "metadata": {
        "id": "dHeMz2Q2ULYQ"
      },
      "source": [
        "plot_cache = []\n",
        "\n",
        "if not load_pretrained:\n",
        "    for epoch_number in range(10):\n",
        "        avg_loss = -1\n",
        "\n",
        "        # -- Training\n",
        "        model.train()\n",
        "\n",
        "        train_loss_cache = 0\n",
        "        train_non_pad_tokens_cache = 0\n",
        "\n",
        "        # == Iterate through batches from the dataset.\n",
        "        for i, (inp, target) in enumerate(dataloaders['train']):\n",
        "            optimizer.zero_grad()\n",
        "            inp = inp.to(current_device)\n",
        "            target = target.to(current_device)\n",
        "\n",
        "            # == Forward pass.\n",
        "            logits = model(inp)\n",
        "\n",
        "            # == Computed (summed) loss.\n",
        "            loss = criterion(logits.view(-1, logits.size(-1)), target.view(-1))\n",
        "            train_loss_cache += loss.item()\n",
        "\n",
        "            # == Compute the number of non `<pad>` tokens in the target.\n",
        "            non_pad_tokens = target.view(-1).ne(dictionary.get_id('<pad>')).sum().item()\n",
        "\n",
        "            # == Normalize the (summed) loss so that it is an average.\n",
        "            loss /= non_pad_tokens  \n",
        "            loss.backward()\n",
        "            optimizer.step()\n",
        "\n",
        "            train_non_pad_tokens_cache += non_pad_tokens\n",
        "            if i % 100 == 0:\n",
        "                avg_loss = train_loss_cache/train_non_pad_tokens_cache\n",
        "                print('Step {} avg train loss = {:.{prec}f}'.format(i, avg_loss, prec=4))\n",
        "\n",
        "        # -- Validation\n",
        "        valid_loss_cache = 0\n",
        "        valid_non_pad_tokens_cache = 0\n",
        "\n",
        "        model.eval()\n",
        "        with torch.no_grad():\n",
        "            non_pad_tokens = 0\n",
        "            for i, (inp, target) in enumerate(dataloaders['valid']):\n",
        "                inp = inp.to(current_device)\n",
        "                target = target.to(current_device)\n",
        "\n",
        "                # == Forward pass and loss\n",
        "                logits = model(inp)\n",
        "                loss = criterion(logits.view(-1, logits.size(-1)), target.view(-1))\n",
        "                valid_loss_cache += loss.item()            \n",
        "\n",
        "                # == Normalize the loss\n",
        "                non_pad_tokens = target.view(-1).ne(dictionary.get_id('<pad>')).sum().item()\n",
        "                valid_non_pad_tokens_cache += non_pad_tokens\n",
        "\n",
        "            avg_val_loss = valid_loss_cache / valid_non_pad_tokens_cache\n",
        "            print('Validation loss after {} epoch = {:.{prec}f}'.format(epoch_number, avg_val_loss, prec=4))\n",
        "\n",
        "        plot_cache.append((avg_loss, avg_val_loss))"
      ],
      "execution_count": null,
      "outputs": []
    },
    {
      "cell_type": "code",
      "metadata": {
        "id": "DEjiLvdFmjrg"
      },
      "source": [
        "if load_pretrained:\n",
        "    plot_cache = model_dict['loss_cache']"
      ],
      "execution_count": null,
      "outputs": []
    },
    {
      "cell_type": "code",
      "metadata": {
        "colab": {
          "base_uri": "https://localhost:8080/",
          "height": 281
        },
        "id": "C0nNouO4Z-TJ",
        "outputId": "1ed6a814-ec0c-4748-cc57-a1d28a1f75d7"
      },
      "source": [
        "import matplotlib.pyplot as plt\n",
        "import numpy\n",
        "\n",
        "epochs = numpy.array(list(range(len(plot_cache))))\n",
        "plt.plot(epochs, [i[0] for i in plot_cache], label='Train loss')\n",
        "plt.plot(epochs, [i[1] for i in plot_cache], label='Valid loss')\n",
        "\n",
        "plt.legend()\n",
        "plt.title('Loss curves')\n",
        "plt.show()"
      ],
      "execution_count": null,
      "outputs": [
        {
          "output_type": "display_data",
          "data": {
            "image/png": "[encoded data removed]",
            "text/plain": [
              "<Figure size 432x288 with 1 Axes>"
            ]
          },
          "metadata": {
            "tags": [],
            "needs_background": "light"
          }
        }
      ]
    },
    {
      "cell_type": "markdown",
      "metadata": {
        "id": "UTyb2zZYbj_O"
      },
      "source": [
        "### 4. Evaluate the model\n",
        "\n",
        "#### Recap: Perplexity\n",
        "Recall **perplexity** from the preceding lab:\n",
        "\n",
        "\\begin{align}\n",
        "\\large \\text{ppl}(p, D) &\\large = 2^{-\\frac{1}{N_{total}}\\log_2 p(D)}\n",
        "\\end{align}\n",
        "\n",
        "where $D=\\{(w_1,\\ldots,w_{N_i})_i\\}_{i=1}^M$ is a dataset of $M$ sequences with total length $N_{\\text{total}}=\\sum_{i}N_i$.\n",
        "\n",
        "#### Computing perplexity\n",
        "\n",
        "Our model's loss is the (negative) log probability of every token in the output sequence, which can be used to compute perplexity.\n",
        "\n",
        "We define perplexity using the **base 2** logarithm. By default `torch.log` uses base `e`. \n",
        "\n",
        "To **convert to base 2** we use: `log_2 p = log_e p / log_e 2`."
      ]
    },
    {
      "cell_type": "code",
      "metadata": {
        "colab": {
          "base_uri": "https://localhost:8080/",
          "height": 281
        },
        "id": "dcuSFVZvbmWR",
        "outputId": "f1599798-ee78-4f1a-f276-b6928bab012c"
      },
      "source": [
        "import matplotlib.pyplot as plt\n",
        "import numpy\n",
        "\n",
        "epochs = numpy.array(list(range(len(plot_cache))))\n",
        "plt.plot(epochs, [2**(i[0]/numpy.log(2)) for i in plot_cache], label='Train ppl')\n",
        "plt.plot(epochs, [2**(i[1]/numpy.log(2)) for i in plot_cache], label='Valid ppl')\n",
        "\n",
        "plt.legend()\n",
        "plt.title('PPL curves')\n",
        "plt.show()"
      ],
      "execution_count": null,
      "outputs": [
        {
          "output_type": "display_data",
          "data": {
            "image/png": "[encoded data removed]",
            "text/plain": [
              "<Figure size 432x288 with 1 Axes>"
            ]
          },
          "metadata": {
            "tags": [],
            "needs_background": "light"
          }
        }
      ]
    },
    {
      "cell_type": "code",
      "metadata": {
        "id": "9t_WHUYcOe_8"
      },
      "source": [
        "# Saving the model\n",
        "if False:\n",
        "    torch.save({\n",
        "        'options': options,\n",
        "        'loss_cache': plot_cache,\n",
        "        'model_dict': model.state_dict()\n",
        "    }, './persona_ffnn_lm.pt')"
      ],
      "execution_count": null,
      "outputs": []
    },
    {
      "cell_type": "markdown",
      "metadata": {
        "id": "UijKJvUr9rKa"
      },
      "source": [
        "#### Conditional probability queries\n",
        "We can now query the model for conditional probabilities:\n",
        "\n",
        "\\begin{align}\n",
        "\\large p(x_t|x_{t-1},\\ldots,x_{t-4}) \n",
        "\\end{align} "
      ]
    },
    {
      "cell_type": "code",
      "metadata": {
        "colab": {
          "base_uri": "https://localhost:8080/"
        },
        "id": "zSPY5fNi9rKb",
        "outputId": "da0867b0-9e77-4244-e8f8-591c9c8309c5"
      },
      "source": [
        "import torch\n",
        "\n",
        "def next_token_probabilities(prefix, token):\n",
        "    inp = dictionary.encode_token_seq(prefix.split(' '))\n",
        "    with torch.no_grad():\n",
        "        model.eval()\n",
        "        logits = model(\n",
        "            torch.tensor([inp], dtype=torch.long).to(current_device)\n",
        "        )\n",
        "    token_id = dictionary.get_id(token)\n",
        "    p_next_token = torch.softmax(logits, dim=-1)\n",
        "    return p_next_token[0, token_id]\n",
        "\n",
        "prefix = '<bos> i have a'\n",
        "\n",
        "for w in ['dog', 'zebra', 'donut', 'velociraptor']:\n",
        "    prob = next_token_probabilities(prefix, w)\n",
        "    print('p( %s  | %s )\\t= %.3E' % (w, prefix, prob))\n",
        "    "
      ],
      "execution_count": null,
      "outputs": [
        {
          "output_type": "stream",
          "text": [
            "p( dog  | <bos> i have a )\t= 7.468E-02\n",
            "p( zebra  | <bos> i have a )\t= 1.473E-04\n",
            "p( donut  | <bos> i have a )\t= 7.881E-06\n",
            "p( velociraptor  | <bos> i have a )\t= 1.323E-06\n"
          ],
          "name": "stdout"
        }
      ]
    },
    {
      "cell_type": "markdown",
      "metadata": {
        "id": "TaZBdh_l9rKb"
      },
      "source": [
        "\n",
        "\n",
        "And sort by the highest probability next-tokens:\n",
        "\n",
        "$\\large \\texttt{sort}(p(\\cdot|\\underbrace{x_{<t}}_{\\text{prefix}}))$"
      ]
    },
    {
      "cell_type": "code",
      "metadata": {
        "colab": {
          "base_uri": "https://localhost:8080/"
        },
        "id": "l4zVv--owi3d",
        "outputId": "9b07dc71-33ee-4649-ad24-12f5c5a92933"
      },
      "source": [
        "def get_top_token_given_prefix(prefix, top=10):\n",
        "    inp = dictionary.encode_token_seq(prefix.split(' '))\n",
        "    with torch.no_grad():\n",
        "        model.eval()\n",
        "        logits = model(\n",
        "            torch.tensor([inp], dtype=torch.long).to(current_device)\n",
        "        )\n",
        "        \n",
        "    p_next_token = torch.softmax(logits, dim=-1)\n",
        "    sorted_probs, sorted_token_ids = torch.topk(p_next_token[0], top)\n",
        "\n",
        "    for i in range(sorted_token_ids.size(0)):\n",
        "        print('p( %s  | %s )\\t= %.5f' % \n",
        "              (dictionary.decode_idx_seq([sorted_token_ids[i]])[0], \n",
        "               prefix, \n",
        "               sorted_probs[i])\n",
        "        )\n",
        "\n",
        "get_top_token_given_prefix('<bos> i have a')  # '<bos> the weather is'  '<bos> <bos> <bos> hello'"
      ],
      "execution_count": null,
      "outputs": [
        {
          "output_type": "stream",
          "text": [
            "p( dog  | <bos> i have a )\t= 0.07468\n",
            "p( cat  | <bos> i have a )\t= 0.04418\n",
            "p( lot  | <bos> i have a )\t= 0.04310\n",
            "p( job  | <bos> i have a )\t= 0.03759\n",
            "p( couple  | <bos> i have a )\t= 0.03458\n",
            "p( few  | <bos> i have a )\t= 0.02293\n",
            "p( black  | <bos> i have a )\t= 0.01704\n",
            "p( little  | <bos> i have a )\t= 0.01618\n",
            "p( hard  | <bos> i have a )\t= 0.01604\n",
            "p( very  | <bos> i have a )\t= 0.01478\n"
          ],
          "name": "stdout"
        }
      ]
    },
    {
      "cell_type": "markdown",
      "metadata": {
        "id": "Eb9Va-p4bj96"
      },
      "source": [
        "# Recurrent neural network language model\n",
        "Recall that in **language modeling**, we want to model the probability of variable length sequences, $$p(x_1,\\ldots,x_T)=\\prod_{t=1}^T p(x_t|x_{<t}).$$\n",
        "\n",
        "*Unlike n-gram models*, we will now define a model that allows a **full history** $x_{<t}$.\n",
        "\n",
        "To do so, we will use a function called a **recurrent neural network** to compute each distribution $p(x_t|x_{<t})$:\n",
        "\\begin{align}\n",
        "h_t &= f^{\\text{RNN}}_{\\theta}(x_{t-1}, h_{t-1}) & \\mathbb{R}^d\\\\\n",
        "s_t &= Wh_t & \\mathbb{R}^{\\text{|vocab|}}\\\\\n",
        "p_{\\theta}(x_t|x_{<t}) &= \\text{softmax}(s_t) & [0,1]^{\\text{|vocab|}}\n",
        "\\end{align}\n",
        "\n",
        "where $h_t$ is an internal (hidden) state of the model at time step $t$, and $x_t$ is an input at time step $t$.\n",
        "\n",
        "<img src=\"/content/rnn.png\" alt=\"Drawing\" style=\"width: 35%; margin-left: 29%; padding: 3em;\"/>\n",
        "\n",
        "<img src=\"https://drive.google.com/uc?export=view&id=1Gl2f6Vt4efYPT3zDqAxqlQJOVuj2QEIv\" alt=\"Drawing\" style=\"width: 35%;\"/>"
      ]
    },
    {
      "cell_type": "markdown",
      "metadata": {
        "id": "tS0sX_yg9rKb"
      },
      "source": [
        "\n",
        "In the simplest form used in practice, $f_{\\theta}^{\\text{RNN}}$ is defined as:\n",
        " $$f_{\\theta}^{\\text{RNN}}(x_{t-1}, h_{t-1}) = \\text{tanh}(a_t)\\\\ a_t = b + W \\cdot h_{t-1} + U \\cdot x_{t-1},$$\n",
        " \n",
        "but there are other variants (e.g. [GRU](https://arxiv.org/pdf/1406.1078.pdf), [LSTM](https://www.bioinf.jku.at/publications/older/2604.pdf)).\n",
        "\n",
        "Similar to the n-gram neural network above, the goal at time $t$ is to **predict the next token $x_t$**."
      ]
    },
    {
      "cell_type": "markdown",
      "metadata": {
        "id": "DLTwdNF-bj97"
      },
      "source": [
        "### Pytorch implementation: `RNNCell`"
      ]
    },
    {
      "cell_type": "code",
      "metadata": {
        "id": "F1WfgVLybj98"
      },
      "source": [
        "import torch\n",
        "from torch.nn import RNNCell"
      ],
      "execution_count": null,
      "outputs": []
    },
    {
      "cell_type": "code",
      "metadata": {
        "id": "OseW45d9bj9_"
      },
      "source": [
        "hidden_size = 16\n",
        "embedding_dim = 8\n",
        "\n",
        "rnn_cell = RNNCell(embedding_dim, hidden_size)"
      ],
      "execution_count": null,
      "outputs": []
    },
    {
      "cell_type": "code",
      "metadata": {
        "colab": {
          "base_uri": "https://localhost:8080/"
        },
        "id": "UnPEPW5Nbj-B",
        "outputId": "188a7f04-eb9f-44d0-c0df-9434f6653948"
      },
      "source": [
        "hidden = torch.zeros(1, hidden_size)\n",
        "print(hidden)\n",
        "print(hidden.size())"
      ],
      "execution_count": null,
      "outputs": [
        {
          "output_type": "stream",
          "text": [
            "tensor([[0., 0., 0., 0., 0., 0., 0., 0., 0., 0., 0., 0., 0., 0., 0., 0.]])\n",
            "torch.Size([1, 16])\n"
          ],
          "name": "stdout"
        }
      ]
    },
    {
      "cell_type": "code",
      "metadata": {
        "colab": {
          "base_uri": "https://localhost:8080/"
        },
        "id": "9TIjbLsMbj-C",
        "outputId": "85b655d0-ecc2-40bc-a12e-7b68e9fda094"
      },
      "source": [
        "random_input = torch.rand(1, embedding_dim)\n",
        "print(random_input)\n",
        "print(random_input.size())"
      ],
      "execution_count": null,
      "outputs": [
        {
          "output_type": "stream",
          "text": [
            "tensor([[0.7657, 0.3433, 0.6724, 0.4042, 0.4870, 0.3307, 0.0680, 0.5333]])\n",
            "torch.Size([1, 8])\n"
          ],
          "name": "stdout"
        }
      ]
    },
    {
      "cell_type": "code",
      "metadata": {
        "colab": {
          "base_uri": "https://localhost:8080/"
        },
        "id": "1n2k_CEBbj-E",
        "outputId": "8c5c6be0-593e-47a8-88b2-5dfc1cb1c4c2"
      },
      "source": [
        "hidden = rnn_cell(random_input, hidden)\n",
        "print(hidden)\n",
        "print(hidden.size())"
      ],
      "execution_count": null,
      "outputs": [
        {
          "output_type": "stream",
          "text": [
            "tensor([[-0.2407,  0.6185,  0.2724, -0.0121, -0.0286,  0.3564, -0.3200,  0.1538,\n",
            "          0.1646, -0.2168,  0.0365,  0.1522,  0.3520,  0.1264, -0.3026, -0.2573]],\n",
            "       grad_fn=<TanhBackward>)\n",
            "torch.Size([1, 16])\n"
          ],
          "name": "stdout"
        }
      ]
    },
    {
      "cell_type": "markdown",
      "metadata": {
        "id": "L4QaNlS2bj-O"
      },
      "source": [
        "### Pytorch implementation: `RNN`\n",
        "\n",
        "`RNNCell` is a building block of an RNN model. The Pytorch `RNN` model supports multi-layer networks by creating separate `RNNCell`s for every layer. \n",
        "\n",
        "`RNN` can also process a whole sequence of data by iteratively applying `RNNCell`."
      ]
    },
    {
      "cell_type": "code",
      "metadata": {
        "id": "FCvackw4bj-O"
      },
      "source": [
        "from torch.nn import RNNBase, RNN"
      ],
      "execution_count": null,
      "outputs": []
    },
    {
      "cell_type": "markdown",
      "metadata": {
        "id": "LHqYjtCYbj--"
      },
      "source": [
        "### 1. Define the model"
      ]
    },
    {
      "cell_type": "code",
      "metadata": {
        "id": "IdlUbyiybj_A"
      },
      "source": [
        "import torch.nn as nn\n",
        "\n",
        "class RNNLanguageModel(nn.Module):\n",
        "    def __init__(self, options):\n",
        "        super().__init__()\n",
        "        \n",
        "        self.lookup = nn.Embedding(\n",
        "            num_embeddings=options['num_embeddings'], \n",
        "            embedding_dim=options['embedding_dim'], \n",
        "            padding_idx=options['padding_idx']\n",
        "        )\n",
        "        self.rnn = nn.RNN(\n",
        "            options['input_size'], \n",
        "            options['hidden_size'], \n",
        "            options['num_layers'], \n",
        "            dropout=options['rnn_dropout'], \n",
        "            batch_first=True\n",
        "        )\n",
        "        self.projection = nn.Linear(\n",
        "            options['hidden_size'], \n",
        "            options['num_embeddings']\n",
        "        )\n",
        "        \n",
        "    def forward(self, token_ids):\n",
        "        embeddings = self.lookup(token_ids)\n",
        "        output, hidden = self.rnn(embeddings)\n",
        "        logits = self.projection(output) \n",
        "        return logits"
      ],
      "execution_count": null,
      "outputs": []
    },
    {
      "cell_type": "markdown",
      "metadata": {
        "id": "dNa76QS89rKd"
      },
      "source": [
        "### 2. Prepare the data"
      ]
    },
    {
      "cell_type": "markdown",
      "metadata": {
        "id": "lto4BASI9rKd"
      },
      "source": [
        "#### Dataset and Dataloader\n",
        "\n",
        "See `data_utils.py` for the implementation. "
      ]
    },
    {
      "cell_type": "code",
      "metadata": {
        "colab": {
          "base_uri": "https://localhost:8080/"
        },
        "id": "lFvJKaJn9rKe",
        "outputId": "6fa97fe5-b027-498c-d88e-1ffde69087ac"
      },
      "source": [
        "datasets_ = data_utils.load_personachat('./')\n",
        "dictionary = data_utils.Dictionary(datasets_, include_valid=True)\n",
        "datasets_ = data_utils.tokenize_dataset(datasets_, dictionary)\n",
        "\n",
        "datasets = {}\n",
        "for split, dataset in datasets_.items():\n",
        "    datasets[split] = data_utils.TensoredDataset(dataset, dictionary.get_id('<pad>'))"
      ],
      "execution_count": null,
      "outputs": [
        {
          "output_type": "stream",
          "text": [
            "100%|██████████| 133176/133176 [00:22<00:00, 5809.90it/s]\n",
            "100%|██████████| 16181/16181 [00:03<00:00, 4381.58it/s]\n"
          ],
          "name": "stderr"
        }
      ]
    },
    {
      "cell_type": "markdown",
      "metadata": {
        "id": "Mz7mQwxW9rKe"
      },
      "source": [
        "- The **input** is now a **full sequence**.\n",
        "- The **output** is the **next token** for each position of the input:"
      ]
    },
    {
      "cell_type": "code",
      "metadata": {
        "colab": {
          "base_uri": "https://localhost:8080/"
        },
        "id": "H-DNzuTa9rKe",
        "outputId": "2fab7e35-d142-4062-d390-8ce8c635fa0d"
      },
      "source": [
        "inp, out = datasets['train'][0]\n",
        "\n",
        "print(\"Input: \\n\\t%s\\n\\t(%s)\" %\n",
        "      (inp.data[0], dictionary.decode_idx_seq(inp.data[0])))\n",
        "\n",
        "print(\"Output: \\n\\t%s\\n\\t(%s)\" %\n",
        "      (out.data[0], dictionary.decode_idx_seq(out.data[0])))"
      ],
      "execution_count": null,
      "outputs": [
        {
          "output_type": "stream",
          "text": [
            "Input: \n",
            "\ttensor([ 0,  4,  5,  6,  7,  8,  9, 10, 11, 12])\n",
            "\t(['<bos>', 'i', 'am', 'doing', 'great', 'except', 'for', 'the', 'allergies', '.'])\n",
            "Output: \n",
            "\ttensor([ 4,  5,  6,  7,  8,  9, 10, 11, 12,  1])\n",
            "\t(['i', 'am', 'doing', 'great', 'except', 'for', 'the', 'allergies', '.', '<eos>'])\n"
          ],
          "name": "stdout"
        }
      ]
    },
    {
      "cell_type": "markdown",
      "metadata": {
        "id": "hCr4299Y9rKe"
      },
      "source": [
        "#### Pytorch dataloader"
      ]
    },
    {
      "cell_type": "code",
      "metadata": {
        "id": "du7DfjTR9rKe"
      },
      "source": [
        "dataloaders = {}\n",
        "batch_size = 128\n",
        "\n",
        "for split, dataset in datasets.items():\n",
        "    dataloaders[split] = DataLoader(\n",
        "        dataset, \n",
        "        batch_size=batch_size, \n",
        "        shuffle=True, \n",
        "        collate_fn=dataset.pad_collate_fn  # pads the sequences in the batch\n",
        "    )"
      ],
      "execution_count": null,
      "outputs": []
    },
    {
      "cell_type": "markdown",
      "metadata": {
        "id": "kftuYCqE9rKe"
      },
      "source": [
        "#### Padding to handle variable sequence lengths:"
      ]
    },
    {
      "cell_type": "code",
      "metadata": {
        "colab": {
          "base_uri": "https://localhost:8080/"
        },
        "id": "gitvpXaE9rKe",
        "outputId": "6978baae-f885-41d3-b199-9fd5d8707b01"
      },
      "source": [
        "inp, target = next(dataloaders['train'].__iter__())\n",
        "\n",
        "print(\"Batch size %s\" % str(inp.shape))\n",
        "print(\"Batch element 1: \\n\\t%s\\n\\t(%s)\" %\n",
        "      (inp.data[0], ' '.join(dictionary.decode_idx_seq(inp.data[0]))))\n",
        "print(\"Batch element 2: \\n\\t%s\\n\\t(%s)\" %\n",
        "      (inp.data[1], ' '.join(dictionary.decode_idx_seq(inp.data[1]))))"
      ],
      "execution_count": null,
      "outputs": [
        {
          "output_type": "stream",
          "text": [
            "Batch size torch.Size([128, 23])\n",
            "Batch element 1: \n",
            "\ttensor([   0,   60,   67,   13, 1871,   86, 8304,   43, 3134,   67,  917,   12,\n",
            "         236,   25,   13, 2878, 7621,  495,   12,    2,    2,    2,    2])\n",
            "\t(<bos> no its a museum in orlando , fl its new . there is a grand opening soon . <pad> <pad> <pad> <pad>)\n",
            "Batch element 2: \n",
            "\ttensor([   0,   66, 1176,   24,   15,  157,   26, 7081,   87,   12,    2,    2,\n",
            "           2,    2,    2,    2,    2,    2,    2,    2,    2,    2,    2])\n",
            "\t(<bos> how come ? what did your landlord do . <pad> <pad> <pad> <pad> <pad> <pad> <pad> <pad> <pad> <pad> <pad> <pad> <pad>)\n"
          ],
          "name": "stdout"
        }
      ]
    },
    {
      "cell_type": "markdown",
      "metadata": {
        "id": "8OUW5bVw9rKf"
      },
      "source": [
        "### 3. Train the model\n",
        "\n",
        "#### Initializing model, criterion, and optimizer (similar to the feedforward model)"
      ]
    },
    {
      "cell_type": "code",
      "metadata": {
        "id": "zQB-RbIhbj_B"
      },
      "source": [
        "import torch\n",
        "import torch.nn as nn\n",
        "import torch.optim as optim\n",
        "\n",
        "load_pretrained = False\n",
        "\n",
        "num_gpus = torch.cuda.device_count()\n",
        "if num_gpus > 0:\n",
        "    current_device = 'cuda'\n",
        "else:\n",
        "    current_device = 'cpu'\n",
        "\n",
        "if load_pretrained:\n",
        "    if not os.path.exists('personachat_rnn_lm.pt'):\n",
        "        raise EOFError('Download pretrained model!')\n",
        "    model_dict = torch.load(\n",
        "        'personachat_rnn_lm.pt',\n",
        "        map_location=torch.device(current_device)\n",
        "    )\n",
        "    \n",
        "    options = model_dict['options']\n",
        "    model = RNNLanguageModel(options).to(current_device)\n",
        "    model.load_state_dict(model_dict['model_dict'])\n",
        "    \n",
        "else:\n",
        "    embedding_size = 256\n",
        "    hidden_size = 512\n",
        "    num_layers = 3\n",
        "    rnn_dropout = 0.3\n",
        "\n",
        "    options = {\n",
        "        'num_embeddings': len(dictionary),\n",
        "        'embedding_dim': embedding_size,\n",
        "        'padding_idx': dictionary.get_id('<pad>'),\n",
        "        'input_size': embedding_size,\n",
        "        'hidden_size': hidden_size,\n",
        "        'num_layers': num_layers,\n",
        "        'rnn_dropout': rnn_dropout,\n",
        "    }\n",
        "    model = RNNLanguageModel(options).to(current_device)\n",
        "    \n",
        "\n",
        "criterion = nn.CrossEntropyLoss(\n",
        "    ignore_index=dictionary.get_id('<pad>'), \n",
        "    reduction='sum'\n",
        ")\n",
        "\n",
        "model_parameters = [p for p in model.parameters() if p.requires_grad]\n",
        "optimizer = optim.SGD(model_parameters, lr=0.001, momentum=0.999)"
      ],
      "execution_count": null,
      "outputs": []
    },
    {
      "cell_type": "code",
      "metadata": {
        "colab": {
          "base_uri": "https://localhost:8080/"
        },
        "id": "qmMLIrhjbj_D",
        "outputId": "057b9c4c-6167-4175-81d9-ee86259d6cc1"
      },
      "source": [
        "model"
      ],
      "execution_count": null,
      "outputs": [
        {
          "output_type": "execute_result",
          "data": {
            "text/plain": [
              "RNNLanguageModel(\n",
              "  (lookup): Embedding(20089, 256, padding_idx=2)\n",
              "  (rnn): RNN(256, 512, num_layers=3, batch_first=True, dropout=0.3)\n",
              "  (projection): Linear(in_features=512, out_features=20089, bias=True)\n",
              ")"
            ]
          },
          "metadata": {
            "tags": []
          },
          "execution_count": 34
        }
      ]
    },
    {
      "cell_type": "code",
      "metadata": {
        "id": "qwBqO3z7bj_L"
      },
      "source": [
        "#### Training loop (same as the feedforward model)"
      ],
      "execution_count": null,
      "outputs": []
    },
    {
      "cell_type": "code",
      "metadata": {
        "id": "Fw28_6qXbj_M"
      },
      "source": [
        "plot_cache = []\n",
        "\n",
        "if not load_pretrained:\n",
        "    for epoch_number in range(100):\n",
        "        avg_loss = 0\n",
        "        model.train()\n",
        "\n",
        "        train_loss_cache = 0\n",
        "        train_non_pad_tokens_cache = 0\n",
        "\n",
        "        for i, (inp, target) in enumerate(dataloaders['train']):\n",
        "            optimizer.zero_grad()\n",
        "            inp = inp.to(current_device)\n",
        "            target = target.to(current_device)\n",
        "            logits = model(inp)\n",
        "\n",
        "            loss = criterion(logits.view(-1, logits.size(-1)), target.view(-1))\n",
        "            train_loss_cache += loss.item()  # still sum here\n",
        "\n",
        "            non_pad_tokens = target.view(-1).ne(dictionary.get_id('<pad>')).sum().item()            \n",
        "            train_non_pad_tokens_cache += non_pad_tokens\n",
        "\n",
        "            loss /= non_pad_tokens \n",
        "\n",
        "            loss.backward()\n",
        "            optimizer.step()\n",
        "\n",
        "            if i % 100 == 0:\n",
        "                avg_loss = train_loss_cache / train_non_pad_tokens_cache\n",
        "                print('Step {} avg train loss = {:.{prec}f}'.format(i, avg_loss, prec=4))\n",
        "                train_log_cache = []\n",
        "\n",
        "        valid_loss_cache = 0\n",
        "        valid_non_pad_tokens_cache = 0\n",
        "\n",
        "        model.eval()\n",
        "        with torch.no_grad():\n",
        "            for i, (inp, target) in enumerate(dataloaders['valid']):\n",
        "                inp = inp.to(current_device)\n",
        "                target = target.to(current_device)\n",
        "                logits = model(inp)\n",
        "\n",
        "                loss = criterion(logits.view(-1, logits.size(-1)), target.view(-1))\n",
        "                valid_loss_cache += loss.item()  # still sum here\n",
        "                non_pad_tokens = target.view(-1).ne(dictionary.get_id('<pad>')).sum().item()\n",
        "\n",
        "                valid_non_pad_tokens_cache += non_pad_tokens\n",
        "\n",
        "            avg_val_loss = valid_loss_cache / valid_non_pad_tokens_cache\n",
        "\n",
        "            print('Validation loss after {} epoch = {:.{prec}f}'.format(epoch_number, avg_val_loss, prec=4))\n",
        "\n",
        "        plot_cache.append((avg_loss, avg_val_loss))\n"
      ],
      "execution_count": null,
      "outputs": []
    },
    {
      "cell_type": "code",
      "metadata": {
        "id": "KAV_hzMvbj_O"
      },
      "source": [
        "if load_pretrained:\n",
        "    plot_cache = model_dict['loss_cache']"
      ],
      "execution_count": null,
      "outputs": []
    },
    {
      "cell_type": "markdown",
      "metadata": {
        "id": "ESfQXpXm9rKf"
      },
      "source": [
        "### 4. Evaluation"
      ]
    },
    {
      "cell_type": "code",
      "metadata": {
        "colab": {
          "base_uri": "https://localhost:8080/",
          "height": 281
        },
        "id": "fhTtmqBfufyE",
        "outputId": "aaa4c450-98f3-477b-ec36-5a776ce9d055"
      },
      "source": [
        "import matplotlib.pyplot as plt\n",
        "import numpy\n",
        "\n",
        "epochs = numpy.array(list(range(len(plot_cache))))\n",
        "plt.plot(epochs, [i[0] for i in plot_cache], label='Train loss')\n",
        "plt.plot(epochs, [i[1] for i in plot_cache], label='Valid loss')\n",
        "\n",
        "plt.legend()\n",
        "plt.title('Loss curves')\n",
        "plt.show()"
      ],
      "execution_count": null,
      "outputs": [
        {
          "output_type": "display_data",
          "data": {
            "image/png": "[encoded data removed]",
            "text/plain": [
              "<Figure size 432x288 with 1 Axes>"
            ]
          },
          "metadata": {
            "tags": [],
            "needs_background": "light"
          }
        }
      ]
    },
    {
      "cell_type": "code",
      "metadata": {
        "colab": {
          "base_uri": "https://localhost:8080/",
          "height": 281
        },
        "id": "R_A4w1QFufyN",
        "outputId": "89bb16df-a252-4781-8684-25f487d17ce5"
      },
      "source": [
        "import matplotlib.pyplot as plt\n",
        "import numpy\n",
        "\n",
        "epochs = numpy.array(list(range(len(plot_cache))))\n",
        "plt.plot(epochs, [2**(i[0]/numpy.log(2)) for i in plot_cache], label='Train ppl')\n",
        "plt.plot(epochs, [2**(i[1]/numpy.log(2)) for i in plot_cache], label='Valid ppl')\n",
        "\n",
        "plt.legend()\n",
        "plt.title('PPL curves')\n",
        "plt.show()"
      ],
      "execution_count": null,
      "outputs": [
        {
          "output_type": "display_data",
          "data": {
            "image/png": "[encoded data removed]",
            "text/plain": [
              "<Figure size 432x288 with 1 Axes>"
            ]
          },
          "metadata": {
            "tags": [],
            "needs_background": "light"
          }
        }
      ]
    },
    {
      "cell_type": "markdown",
      "metadata": {
        "id": "zAvP_FXgbj_W"
      },
      "source": [
        "### Conditional probability queries\n",
        "\n",
        "We can query different probabilities:\n",
        "\n",
        "$\\large p(\\underbrace{x_t}_{\\text{token}}|\\underbrace{x_{<t}}_{\\text{prefix}})$"
      ]
    },
    {
      "cell_type": "code",
      "metadata": {
        "colab": {
          "base_uri": "https://localhost:8080/"
        },
        "id": "TMG0r9zwbj_X",
        "outputId": "bb07ab29-a352-4032-a535-15a66330144e"
      },
      "source": [
        "import torch\n",
        "\n",
        "def next_token_probabilities(prefix, token):\n",
        "    inp = dictionary.encode_token_seq(prefix.split(' '))\n",
        "    with torch.no_grad():\n",
        "        model.eval()\n",
        "        logits = model(\n",
        "            torch.tensor([inp], dtype=torch.long).to(current_device)\n",
        "        )\n",
        "        \n",
        "    token_id = dictionary.get_id(token)\n",
        "    p_next_token = torch.softmax(logits[0, -1], dim=-1)\n",
        "    return p_next_token[token_id]\n",
        "\n",
        "prefix = '<bos> i have a'\n",
        "\n",
        "for w in ['dog', 'zebra', 'donut', 'velociraptor']:\n",
        "    prob = next_token_probabilities(prefix, w)\n",
        "    print('p( %s  | %s )\\t= %.3E' % (w, prefix, prob))\n",
        "    "
      ],
      "execution_count": null,
      "outputs": [
        {
          "output_type": "stream",
          "text": [
            "p( dog  | <bos> i have a )\t= 6.960E-02\n",
            "p( zebra  | <bos> i have a )\t= 1.633E-04\n",
            "p( donut  | <bos> i have a )\t= 1.039E-05\n",
            "p( velociraptor  | <bos> i have a )\t= 2.267E-07\n"
          ],
          "name": "stdout"
        }
      ]
    },
    {
      "cell_type": "markdown",
      "metadata": {
        "id": "8OSlmrRx9rKg"
      },
      "source": [
        "\n",
        "\n",
        "And sort by the highest probability next-tokens:\n",
        "\n",
        "$\\large \\texttt{sort}(p(\\cdot|\\underbrace{x_{<t}}_{\\text{prefix}}))$"
      ]
    },
    {
      "cell_type": "code",
      "metadata": {
        "colab": {
          "base_uri": "https://localhost:8080/"
        },
        "id": "rcPkhI4z9rKg",
        "outputId": "7a816548-920e-445b-88ea-ba729a47fbfa"
      },
      "source": [
        "def get_top_token_given_prefix(prefix, top=10):\n",
        "    inp = dictionary.encode_token_seq(prefix.split(' '))\n",
        "    with torch.no_grad():\n",
        "        model.eval()\n",
        "        logits = model(\n",
        "            torch.tensor([inp], dtype=torch.long).to(current_device)\n",
        "        )\n",
        "        \n",
        "    p_next_token = torch.softmax(logits[0, -1], dim=-1)\n",
        "    sorted_probs, sorted_token_ids = torch.topk(p_next_token, top)\n",
        "\n",
        "    for i in range(sorted_token_ids.size(0)):\n",
        "        print('p( %s  | %s )\\t= %.5f' % \n",
        "              (dictionary.decode_idx_seq([sorted_token_ids[i]])[0], \n",
        "               prefix, \n",
        "               sorted_probs[i])\n",
        "        )\n",
        "\n",
        "get_top_token_given_prefix('<bos> the weather is')"
      ],
      "execution_count": null,
      "outputs": [
        {
          "output_type": "stream",
          "text": [
            "p( great  | <bos> the weather is )\t= 0.09953\n",
            "p( nice  | <bos> the weather is )\t= 0.07859\n",
            "p( beautiful  | <bos> the weather is )\t= 0.06185\n",
            "p( fun  | <bos> the weather is )\t= 0.05039\n",
            "p( good  | <bos> the weather is )\t= 0.04573\n",
            "p( awesome  | <bos> the weather is )\t= 0.04308\n",
            "p( cool  | <bos> the weather is )\t= 0.04212\n",
            "p( my  | <bos> the weather is )\t= 0.03604\n",
            "p( a  | <bos> the weather is )\t= 0.02892\n",
            "p( so  | <bos> the weather is )\t= 0.02230\n"
          ],
          "name": "stdout"
        }
      ]
    },
    {
      "cell_type": "markdown",
      "metadata": {
        "id": "px0qqnMc9rKh"
      },
      "source": [
        "### Generation (Sampling)\n",
        "\n",
        "Finally, we can generate sentences using the model's conditional distribution:\n",
        "\n",
        "            context = [<bos>]\n",
        "            until <eos> is generated:\n",
        "                wt ~ p(wt | context)\n",
        "                context += [wt]\n",
        "                \n",
        "                \n",
        "Here, the `~` symbol stands for sampling from a categorical distribution. "
      ]
    },
    {
      "cell_type": "code",
      "metadata": {
        "colab": {
          "base_uri": "https://localhost:8080/"
        },
        "id": "Qk0-uRZa9rKh",
        "outputId": "550b9df7-bd4c-402d-ec19-e34c5e4b43bc"
      },
      "source": [
        "import torch\n",
        "\n",
        "def sample(model, prefix, num_samples, temperature=1.0, max_len=50):\n",
        "    inp = torch.tensor([\n",
        "        dictionary.encode_token_seq(prefix.split(' '))\n",
        "    ], dtype=torch.long).to(current_device).repeat([num_samples, 1])\n",
        "\n",
        "    sampled = [prefix.split(' ') for _ in range(num_samples)]\n",
        "    done = torch.tensor([False for _ in range(num_samples)])\n",
        "    hidden = None\n",
        "    \n",
        "    with torch.no_grad():\n",
        "        model.eval()\n",
        "        for t in range(max_len):\n",
        "            logits, hidden = step(model, inp, hidden)\n",
        "            logits_ = (logits[:, -1, :] / temperature)\n",
        "            inp = logits_.softmax(-1).multinomial(1)            \n",
        "            for i in range(num_samples):\n",
        "                tok_ti = dictionary.get_token(inp[i, 0].item())\n",
        "                if tok_ti == '<eos>' and not done[i]:\n",
        "                    done[i] = True\n",
        "                    sampled[i].append(tok_ti)\n",
        "                elif not done[i]:\n",
        "                    sampled[i].append(tok_ti)\n",
        "                else:\n",
        "                    pass\n",
        "            if done.sum() == num_samples:\n",
        "                break\n",
        "        \n",
        "    return sampled\n",
        "\n",
        "def step(rnn, token_ids, hidden):\n",
        "    embeddings = rnn.lookup(token_ids)\n",
        "    output, hidden = rnn.rnn(embeddings, hidden)\n",
        "    logits = rnn.projection(output) \n",
        "    return logits, hidden\n",
        "\n",
        "\n",
        "prefix = '<bos> i have a'\n",
        "\n",
        "for temp in [1.0, 0.5, 0.1]:\n",
        "    print(\"Temperature %.2f\" % temp)\n",
        "    samples = sample(model, prefix, 5, temperature=temp)\n",
        "    for s in samples:\n",
        "        print(' '.join(s))\n",
        "    print()"
      ],
      "execution_count": null,
      "outputs": [
        {
          "output_type": "stream",
          "text": [
            "Temperature 1.00\n",
            "<bos> i have a doberman and a chihuahua . <eos>\n",
            "<bos> i have a music myself . he is a nurse and i divorced red opinions . <eos>\n",
            "<bos> i have a pit that i won chasing . <eos>\n",
            "<bos> i have a place named . <eos>\n",
            "<bos> i have a religious names ! <eos>\n",
            "\n",
            "Temperature 0.50\n",
            "<bos> i have a dog named toto . <eos>\n",
            "<bos> i have a dog named toto and my dog is my best friend . <eos>\n",
            "<bos> i have a dog . i am a full time student . <eos>\n",
            "<bos> i have a couple of dogs . they are so cute . <eos>\n",
            "<bos> i have a cat named leela . <eos>\n",
            "\n",
            "Temperature 0.10\n",
            "<bos> i have a cat named cow . <eos>\n",
            "<bos> i have a dog named toto . <eos>\n",
            "<bos> i have a cat named cow . <eos>\n",
            "<bos> i have a dog named toto . <eos>\n",
            "<bos> i have a lot of friends . <eos>\n",
            "\n"
          ],
          "name": "stdout"
        }
      ]
    },
    {
      "cell_type": "code",
      "metadata": {
        "id": "uzGqlrKhbj_g"
      },
      "source": [
        "# Saving the model\n",
        "if False:\n",
        "    torch.save({\n",
        "        'options': options,\n",
        "        'loss_cache': plot_cache,\n",
        "        'model_dict': model.state_dict()\n",
        "    }, './persona_rnn_lm.pt')"
      ],
      "execution_count": null,
      "outputs": []
    },
    {
      "cell_type": "markdown",
      "metadata": {
        "id": "PNwDlMsL9rKh"
      },
      "source": [
        "## Large-scale Language Modeling: GPT-2\n",
        "\n",
        "The language model above is relatively small in terms of the number of parameters, and is trained on a (very) small dataset.\n",
        "\n",
        "Recently, researchers have trained **large-scale language models** on **large amounts of data**, resulting in improved language modeling and generation ability. \n",
        "\n",
        "A representative example is **GPT-2** [[paper](https://cdn.openai.com/better-language-models/language_models_are_unsupervised_multitask_learners.pdf)], [[blog](https://openai.com/blog/better-language-models/)]. We won't currently discuss the details of this model, but we can easily **use a pre-trained version to generate text**:"
      ]
    },
    {
      "cell_type": "code",
      "metadata": {
        "colab": {
          "base_uri": "https://localhost:8080/"
        },
        "id": "Bsh0TBqd9rKh",
        "outputId": "58ef0ab0-e6c8-4c0b-9ad3-ee01d4b56f77"
      },
      "source": [
        "!pip install transformers"
      ],
      "execution_count": null,
      "outputs": [
        {
          "output_type": "stream",
          "text": [
            "Collecting transformers\n",
            "\u001b[?25l  Downloading https://files.pythonhosted.org/packages/d8/b2/57495b5309f09fa501866e225c84532d1fd89536ea62406b2181933fb418/transformers-4.5.1-py3-none-any.whl (2.1MB)\n",
            "\u001b[K     |████████████████████████████████| 2.1MB 7.4MB/s \n",
            "\u001b[?25hRequirement already satisfied: numpy>=1.17 in /usr/local/lib/python3.7/dist-packages (from transformers) (1.19.5)\n",
            "Requirement already satisfied: importlib-metadata; python_version < \"3.8\" in /usr/local/lib/python3.7/dist-packages (from transformers) (3.10.1)\n",
            "Collecting tokenizers<0.11,>=0.10.1\n",
            "\u001b[?25l  Downloading https://files.pythonhosted.org/packages/ae/04/5b870f26a858552025a62f1649c20d29d2672c02ff3c3fb4c688ca46467a/tokenizers-0.10.2-cp37-cp37m-manylinux2010_x86_64.whl (3.3MB)\n",
            "\u001b[K     |████████████████████████████████| 3.3MB 34.6MB/s \n",
            "\u001b[?25hRequirement already satisfied: packaging in /usr/local/lib/python3.7/dist-packages (from transformers) (20.9)\n",
            "Requirement already satisfied: regex!=2019.12.17 in /usr/local/lib/python3.7/dist-packages (from transformers) (2019.12.20)\n",
            "Requirement already satisfied: tqdm>=4.27 in /usr/local/lib/python3.7/dist-packages (from transformers) (4.41.1)\n",
            "Collecting sacremoses\n",
            "\u001b[?25l  Downloading https://files.pythonhosted.org/packages/75/ee/67241dc87f266093c533a2d4d3d69438e57d7a90abb216fa076e7d475d4a/sacremoses-0.0.45-py3-none-any.whl (895kB)\n",
            "\u001b[K     |████████████████████████████████| 901kB 54.2MB/s \n",
            "\u001b[?25hRequirement already satisfied: requests in /usr/local/lib/python3.7/dist-packages (from transformers) (2.23.0)\n",
            "Requirement already satisfied: filelock in /usr/local/lib/python3.7/dist-packages (from transformers) (3.0.12)\n",
            "Requirement already satisfied: typing-extensions>=3.6.4; python_version < \"3.8\" in /usr/local/lib/python3.7/dist-packages (from importlib-metadata; python_version < \"3.8\"->transformers) (3.7.4.3)\n",
            "Requirement already satisfied: zipp>=0.5 in /usr/local/lib/python3.7/dist-packages (from importlib-metadata; python_version < \"3.8\"->transformers) (3.4.1)\n",
            "Requirement already satisfied: pyparsing>=2.0.2 in /usr/local/lib/python3.7/dist-packages (from packaging->transformers) (2.4.7)\n",
            "Requirement already satisfied: six in /usr/local/lib/python3.7/dist-packages (from sacremoses->transformers) (1.15.0)\n",
            "Requirement already satisfied: joblib in /usr/local/lib/python3.7/dist-packages (from sacremoses->transformers) (1.0.1)\n",
            "Requirement already satisfied: click in /usr/local/lib/python3.7/dist-packages (from sacremoses->transformers) (7.1.2)\n",
            "Requirement already satisfied: urllib3!=1.25.0,!=1.25.1,<1.26,>=1.21.1 in /usr/local/lib/python3.7/dist-packages (from requests->transformers) (1.24.3)\n",
            "Requirement already satisfied: idna<3,>=2.5 in /usr/local/lib/python3.7/dist-packages (from requests->transformers) (2.10)\n",
            "Requirement already satisfied: certifi>=2017.4.17 in /usr/local/lib/python3.7/dist-packages (from requests->transformers) (2020.12.5)\n",
            "Requirement already satisfied: chardet<4,>=3.0.2 in /usr/local/lib/python3.7/dist-packages (from requests->transformers) (3.0.4)\n",
            "Installing collected packages: tokenizers, sacremoses, transformers\n",
            "Successfully installed sacremoses-0.0.45 tokenizers-0.10.2 transformers-4.5.1\n"
          ],
          "name": "stdout"
        }
      ]
    },
    {
      "cell_type": "markdown",
      "metadata": {
        "id": "_XqKlueI9rKh"
      },
      "source": [
        "#### Load the model and tokenizer"
      ]
    },
    {
      "cell_type": "code",
      "metadata": {
        "colab": {
          "base_uri": "https://localhost:8080/",
          "height": 261,
          "referenced_widgets": [
            "25994620a5264743810f9942de3a694e",
            "9130cd1c2743449c97414f2cb8a592db",
            "63d310fa86e5429a974b9cdbcb3e7ff8",
            "7b270c7d53434bccad64a1f639ebb9a2",
            "0ffaa3052c4c41f2b80efee113c22d86",
            "5a7659e686cc4e06a4cef5bce9559458",
            "548a1ccf3b664628bfb58431f13a059a",
            "76393e1adfa04cd59f65265230bdf3f8",
            "c0017acf41ad4d8ab5de63d1b90436d1",
            "4494491a17c54e0783c0930db84b20c6",
            "2a0174c024e340449dca41734418ea3b",
            "3e3f25b75a154a5d9057779ce532890e",
            "66147d591e7f4969a06cb52ff577a4d3",
            "68dd4c1159284c1ebef2a8abf028d27a",
            "2b234e9e2c724585a2cdebabd144bf40",
            "e006beca80064d018c10551c59401183",
            "230174cb9150432cb8c700c8eafac630",
            "4db909ae43bf4dfebb47031415233a93",
            "11c4971b067441aebe31f56af2c30936",
            "5681d34f629c4c7aad843825cfb63177",
            "339f3caa2cb74f989ac7dc1bb47ec89b",
            "e3e03366d1fb40e6a7c2a20c2981ce53",
            "49fa30cd49294061b493c71d3e1fa66f",
            "7f40d3a50d4f4b1b8512b7778928aff9",
            "50e08e9b04224b0598cee8742b71ca5d",
            "769714a714964dabaeb77d4d1c80973e",
            "e83d6b3815c345f69487c08504744771",
            "14ff8327d1914430b63b89e7a0f218e3",
            "650beaf3d1944bbab5822d358ce21b78",
            "1882f6b1db564db5a88ea22b76d8e987",
            "159f11172ee749bd9d14887b0a615829",
            "e822eb4755134d59af6ed74cc1997282",
            "20d4e7d485f5443baf0058282622abee",
            "0e9582f8da4845b4973de5fed52fb472",
            "5b0b317050344842bfe7243918925191",
            "7287a35638b54697b6e6ea46f938e438",
            "a006426ff48a4c979437dc5ea6a514db",
            "6d95c078894340ddb2b1582213a9cbe0",
            "0a07e8b527c94220ad9348659dc314a1",
            "a78a06fd8d4d48e4ae01d551185b173c"
          ]
        },
        "id": "Y7RFcPqc9rKi",
        "outputId": "8a6ddf17-9c07-4fe5-fb77-5bd62cacf1ca"
      },
      "source": [
        "import torch\n",
        "from transformers import (\n",
        "    GPT2LMHeadModel,\n",
        "    GPT2Tokenizer\n",
        ")\n",
        "\n",
        "device = torch.device('cpu') if not torch.cuda.is_available() else torch.device('cuda:0')\n",
        "\n",
        "tokenizer = GPT2Tokenizer.from_pretrained(\"gpt2\")\n",
        "model = GPT2LMHeadModel.from_pretrained(\"gpt2\")\n",
        "model.to(device);"
      ],
      "execution_count": null,
      "outputs": [
        {
          "output_type": "display_data",
          "data": {
            "application/vnd.jupyter.widget-view+json": {
              "model_id": "25994620a5264743810f9942de3a694e",
              "version_minor": 0,
              "version_major": 2
            },
            "text/plain": [
              "HBox(children=(FloatProgress(value=0.0, description='Downloading', max=1042301.0, style=ProgressStyle(descript…"
            ]
          },
          "metadata": {
            "tags": []
          }
        },
        {
          "output_type": "stream",
          "text": [
            "\n"
          ],
          "name": "stdout"
        },
        {
          "output_type": "display_data",
          "data": {
            "application/vnd.jupyter.widget-view+json": {
              "model_id": "c0017acf41ad4d8ab5de63d1b90436d1",
              "version_minor": 0,
              "version_major": 2
            },
            "text/plain": [
              "HBox(children=(FloatProgress(value=0.0, description='Downloading', max=456318.0, style=ProgressStyle(descripti…"
            ]
          },
          "metadata": {
            "tags": []
          }
        },
        {
          "output_type": "stream",
          "text": [
            "\n"
          ],
          "name": "stdout"
        },
        {
          "output_type": "display_data",
          "data": {
            "application/vnd.jupyter.widget-view+json": {
              "model_id": "230174cb9150432cb8c700c8eafac630",
              "version_minor": 0,
              "version_major": 2
            },
            "text/plain": [
              "HBox(children=(FloatProgress(value=0.0, description='Downloading', max=1355256.0, style=ProgressStyle(descript…"
            ]
          },
          "metadata": {
            "tags": []
          }
        },
        {
          "output_type": "stream",
          "text": [
            "\n"
          ],
          "name": "stdout"
        },
        {
          "output_type": "display_data",
          "data": {
            "application/vnd.jupyter.widget-view+json": {
              "model_id": "50e08e9b04224b0598cee8742b71ca5d",
              "version_minor": 0,
              "version_major": 2
            },
            "text/plain": [
              "HBox(children=(FloatProgress(value=0.0, description='Downloading', max=665.0, style=ProgressStyle(description_…"
            ]
          },
          "metadata": {
            "tags": []
          }
        },
        {
          "output_type": "stream",
          "text": [
            "\n"
          ],
          "name": "stdout"
        },
        {
          "output_type": "display_data",
          "data": {
            "application/vnd.jupyter.widget-view+json": {
              "model_id": "20d4e7d485f5443baf0058282622abee",
              "version_minor": 0,
              "version_major": 2
            },
            "text/plain": [
              "HBox(children=(FloatProgress(value=0.0, description='Downloading', max=548118077.0, style=ProgressStyle(descri…"
            ]
          },
          "metadata": {
            "tags": []
          }
        },
        {
          "output_type": "stream",
          "text": [
            "\n"
          ],
          "name": "stdout"
        }
      ]
    },
    {
      "cell_type": "markdown",
      "metadata": {
        "id": "pgVsbd0U9rKi"
      },
      "source": [
        "#### Generate (Sampling)\n",
        "\n",
        "We'll talk about other ways to generate later in the course."
      ]
    },
    {
      "cell_type": "code",
      "metadata": {
        "colab": {
          "base_uri": "https://localhost:8080/"
        },
        "id": "Iz140cJ79rKi",
        "outputId": "d8bcddbd-467a-4f88-a86c-cc28fe9137df"
      },
      "source": [
        "prefix = 'My favorite food is'\n",
        "\n",
        "max_length = 100\n",
        "num_samples = 5\n",
        "\n",
        "inp = torch.tensor([tokenizer.encode(prefix)], device=device).repeat(num_samples, 1)\n",
        "\n",
        "out = model.generate(\n",
        "    input_ids=inp,\n",
        "    do_sample=True,\n",
        "    max_length=max_length\n",
        ")\n",
        "\n",
        "for i in range(num_samples):\n",
        "    sample = tokenizer.decode(out[i])\n",
        "    print(sample)\n",
        "    print('---------------------------------------------------')"
      ],
      "execution_count": null,
      "outputs": [
        {
          "output_type": "stream",
          "text": [
            "Setting `pad_token_id` to `eos_token_id`:50256 for open-end generation.\n"
          ],
          "name": "stderr"
        },
        {
          "output_type": "stream",
          "text": [
            "My favorite food is to put the salt to the top of the dish, like in the French French salad recipe, and dip it in boiling water when adding the sugar like in the French salad. I do this with a few things that you have to do before using the salt. First, mix the ingredients together in a large pot of water, which will make about 5 cups (250g) large. Add the crushed vegetables and 2 cups (30g) of flour. Let stand in a light\n",
            "---------------------------------------------------\n",
            "My favorite food is something I could never get any good at…\n",
            "\n",
            "The biggest food I have eaten in my life and to that extent I have always been a fan of food made from scratch…but if I hadn't known what an authentic food was then I would be ashamed of myself!!! The fresh food and the good food are just so damn awesome!\n",
            "\n",
            "I love traveling across America and taking back my favorite dishes. I even had a trip to Disneyland where I found my favorite dishes…\n",
            "---------------------------------------------------\n",
            "My favorite food is in my purse or jacket. No money. Everything to eat. One of the first things I thought of when I turned to the menu is how to turn this all into a game.\n",
            "\n",
            "As such, I really believe this one is worth the effort involved.\n",
            "\n",
            "(3) Get some snacks and drink\n",
            "\n",
            "It shouldn't be a problem if you're a snack snacking person and this is also to help out your brain and keep you motivated.\n",
            "\n",
            "In\n",
            "---------------------------------------------------\n",
            "My favorite food is a bit of a mess. The dough comes out to just 1-2 sheets in an 8 inch round ball. I didn't mind the extra layer of dough and didn't really have to add more of it. I'll be a bit of a sweetie for this one.\n",
            "\n",
            "It came out to 2.5 sheets of dough, but just as needed to get on top and spread around me like a sheet of spaghetti.\n",
            "\n",
            "I would say a little extra dough\n",
            "---------------------------------------------------\n",
            "My favorite food is fried chicken.\n",
            "\n",
            "Saw this at a local place recently, she ordered it. Great.\n",
            "\n",
            "I love my beef burgers, but I would be happy to have some fresh local.\n",
            "\n",
            "The name of the place is crazy. Nice! It's a simple, slow cooker with no special ingredients. It's a quick, easy way to enjoy some great food for a quick lunch. I have had all of the beef, but I would take the steak from the\n",
            "---------------------------------------------------\n"
          ],
          "name": "stdout"
        }
      ]
    },
    {
      "cell_type": "code",
      "metadata": {
        "id": "BjTRH_Em9rKi"
      },
      "source": [
        ""
      ],
      "execution_count": null,
      "outputs": []
    }
  ]
}